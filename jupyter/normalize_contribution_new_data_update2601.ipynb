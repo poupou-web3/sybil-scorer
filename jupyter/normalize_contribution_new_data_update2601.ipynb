{
 "cells": [
  {
   "attachments": {},
   "cell_type": "markdown",
   "metadata": {},
   "source": [
    "## This python file read contribution and application files and normalize them\n",
    "#####  Into two unique files one for contributions and one for applications\n",
    "- df_contribution_normalized.csv\n",
    "- df_application_normalized.csv\n",
    "The data is cleaned and standardized to be easily accessible,\n",
    "\n",
    " it also creates a unique_ctbt_address.csv giving all unique addresses participating in a grant"
   ]
  },
  {
   "attachments": {},
   "cell_type": "markdown",
   "metadata": {},
   "source": [
    "Required inputs are the grant folder inside a data folder as available on github "
   ]
  },
  {
   "cell_type": "code",
   "execution_count": 1,
   "metadata": {},
   "outputs": [],
   "source": [
    "import pandas as pd\n",
    "import numpy as np\n",
    "import os\n",
    "from pathlib import Path\n",
    "import sys"
   ]
  },
  {
   "cell_type": "code",
   "execution_count": 2,
   "metadata": {},
   "outputs": [],
   "source": [
    "absolute_path = os.fspath(Path.cwd().parent)\n",
    "if absolute_path not in sys.path:\n",
    "    sys.path.append(absolute_path)"
   ]
  },
  {
   "cell_type": "code",
   "execution_count": 3,
   "metadata": {},
   "outputs": [],
   "source": [
    "# import data \n",
    "df_fantom_votes = pd.read_csv('../data/grants/Fantom/fantom_grant_votes.csv')\n",
    "df_unicef_votes = pd.read_csv('../data/grants/UNICEF/unicef_grant_votes.csv')\n",
    "df_gr15_votes = pd.read_csv('../data/grants/GR15/GR15_contributions.csv')\n",
    "df_oss_votes = pd.read_csv('../data/grants/oss/oss_grant_votes.csv')\n",
    "df_climate_votes = pd.read_csv('../data/grants/Climate/climate_grant_votes.csv')\n",
    "df_ethereum_votes = pd.read_csv('../data/grants/Ethereum/ethereum_grant_votes.csv')\n",
    "df_fantom_votes['project_round'] = \"FANTOM\"\n",
    "df_unicef_votes['project_round'] = \"UNICEF\"\n",
    "df_gr15_votes['project_round'] = \"GR15\"\n",
    "df_oss_votes['project_round'] = \"OSS\"\n",
    "df_climate_votes['project_round'] = \"CLIMATE\"\n",
    "df_ethereum_votes['project_round'] = \"ETHEREUM\""
   ]
  },
  {
   "cell_type": "code",
   "execution_count": 4,
   "metadata": {},
   "outputs": [],
   "source": [
    "# import grant data\n",
    "df_fantom_applications = pd.read_csv('../data/grants/Fantom/fantom_grant_applications.csv')\n",
    "df_unicef_applications = pd.read_csv('../data/grants/UNICEF/unicef_grant_applications.csv')\n",
    "df_oss_applications = pd.read_csv('../data/grants/oss/oss_grant_applications.csv')\n",
    "df_climate_applications = pd.read_csv('../data/grants/Climate/climate_grant_applications.csv')\n",
    "df_ethereum_applications = pd.read_csv('../data/grants/Ethereum/ethereum_grant_applications.csv')\n",
    "df_gr15_applications = pd.read_json('../data/grants/GR15/GR15_grants_applications.json').T\n",
    "df_fantom_applications['project_round'] = \"FANTOM\"\n",
    "df_unicef_applications['project_round'] = \"UNICEF\"\n",
    "df_gr15_applications['project_round'] = \"GR15\"\n",
    "df_oss_applications['project_round'] = \"OSS\"\n",
    "df_climate_applications['project_round'] = \"CLIMATE\"\n",
    "df_ethereum_applications['project_round'] = \"ETHEREUM\""
   ]
  },
  {
   "attachments": {},
   "cell_type": "markdown",
   "metadata": {},
   "source": [
    "## DF votes exploration"
   ]
  },
  {
   "cell_type": "code",
   "execution_count": 5,
   "metadata": {},
   "outputs": [
    {
     "name": "stdout",
     "output_type": "stream",
     "text": [
      "(139337, 7)\n",
      "(64180, 7)\n",
      "(453870, 11)\n",
      "(50579, 7)\n",
      "(8556, 7)\n",
      "(10034, 7)\n"
     ]
    }
   ],
   "source": [
    "print(df_fantom_votes.shape)\n",
    "print(df_unicef_votes.shape)\n",
    "print(df_gr15_votes.shape)\n",
    "print(df_oss_votes.shape)\n",
    "print(df_climate_votes.shape)\n",
    "print(df_ethereum_votes.shape)"
   ]
  },
  {
   "cell_type": "code",
   "execution_count": 6,
   "metadata": {},
   "outputs": [
    {
     "data": {
      "text/html": [
       "<div>\n",
       "<style scoped>\n",
       "    .dataframe tbody tr th:only-of-type {\n",
       "        vertical-align: middle;\n",
       "    }\n",
       "\n",
       "    .dataframe tbody tr th {\n",
       "        vertical-align: top;\n",
       "    }\n",
       "\n",
       "    .dataframe thead th {\n",
       "        text-align: right;\n",
       "    }\n",
       "</style>\n",
       "<table border=\"1\" class=\"dataframe\">\n",
       "  <thead>\n",
       "    <tr style=\"text-align: right;\">\n",
       "      <th></th>\n",
       "      <th>id</th>\n",
       "      <th>token</th>\n",
       "      <th>amount</th>\n",
       "      <th>source_wallet</th>\n",
       "      <th>destination_wallet</th>\n",
       "      <th>created_at</th>\n",
       "      <th>project_round</th>\n",
       "    </tr>\n",
       "  </thead>\n",
       "  <tbody>\n",
       "    <tr>\n",
       "      <th>0</th>\n",
       "      <td>113dRUPwQJ9tTfeqeMRq2Mn8kfYrNyakTPdEhqFkVSe</td>\n",
       "      <td>FTM</td>\n",
       "      <td>1.0</td>\n",
       "      <td>0x06cd8288dc001024ce0a1cf39caaedc0e2db9c82</td>\n",
       "      <td>0xe126b3e5d052f1f575828f61feba4f4f2603652a</td>\n",
       "      <td>2022-12-24 16:26:49</td>\n",
       "      <td>FANTOM</td>\n",
       "    </tr>\n",
       "    <tr>\n",
       "      <th>1</th>\n",
       "      <td>11n4hU8NKy7gr5oBqJ1AeEyBKV7L47JGLpbrskoDBcf</td>\n",
       "      <td>FTM</td>\n",
       "      <td>4.9</td>\n",
       "      <td>0x9be7d88cfd6e4b519cd9720db6de6e6f2c1ca77e</td>\n",
       "      <td>0x7d658841f8ba93299970f6e765c2ce205f1e70dd</td>\n",
       "      <td>2022-12-22 13:09:47</td>\n",
       "      <td>FANTOM</td>\n",
       "    </tr>\n",
       "  </tbody>\n",
       "</table>\n",
       "</div>"
      ],
      "text/plain": [
       "                                            id token  amount  \\\n",
       "0  113dRUPwQJ9tTfeqeMRq2Mn8kfYrNyakTPdEhqFkVSe   FTM     1.0   \n",
       "1  11n4hU8NKy7gr5oBqJ1AeEyBKV7L47JGLpbrskoDBcf   FTM     4.9   \n",
       "\n",
       "                                source_wallet  \\\n",
       "0  0x06cd8288dc001024ce0a1cf39caaedc0e2db9c82   \n",
       "1  0x9be7d88cfd6e4b519cd9720db6de6e6f2c1ca77e   \n",
       "\n",
       "                           destination_wallet           created_at  \\\n",
       "0  0xe126b3e5d052f1f575828f61feba4f4f2603652a  2022-12-24 16:26:49   \n",
       "1  0x7d658841f8ba93299970f6e765c2ce205f1e70dd  2022-12-22 13:09:47   \n",
       "\n",
       "  project_round  \n",
       "0        FANTOM  \n",
       "1        FANTOM  "
      ]
     },
     "execution_count": 6,
     "metadata": {},
     "output_type": "execute_result"
    }
   ],
   "source": [
    "df_fantom_votes.head(2)"
   ]
  },
  {
   "cell_type": "code",
   "execution_count": 7,
   "metadata": {},
   "outputs": [
    {
     "data": {
      "text/plain": [
       "id                    0\n",
       "token                 0\n",
       "amount                0\n",
       "source_wallet         0\n",
       "destination_wallet    0\n",
       "created_at            0\n",
       "project_round         0\n",
       "dtype: int64"
      ]
     },
     "execution_count": 7,
     "metadata": {},
     "output_type": "execute_result"
    }
   ],
   "source": [
    "df_fantom_votes.isna().sum()"
   ]
  },
  {
   "cell_type": "code",
   "execution_count": 8,
   "metadata": {},
   "outputs": [
    {
     "name": "stdout",
     "output_type": "stream",
     "text": [
      "['FTM' 'DAI' 'WFTM' 'BUSD']\n"
     ]
    }
   ],
   "source": [
    "print(df_fantom_votes.token.unique())"
   ]
  },
  {
   "cell_type": "code",
   "execution_count": 9,
   "metadata": {},
   "outputs": [
    {
     "data": {
      "text/html": [
       "<div>\n",
       "<style scoped>\n",
       "    .dataframe tbody tr th:only-of-type {\n",
       "        vertical-align: middle;\n",
       "    }\n",
       "\n",
       "    .dataframe tbody tr th {\n",
       "        vertical-align: top;\n",
       "    }\n",
       "\n",
       "    .dataframe thead th {\n",
       "        text-align: right;\n",
       "    }\n",
       "</style>\n",
       "<table border=\"1\" class=\"dataframe\">\n",
       "  <thead>\n",
       "    <tr style=\"text-align: right;\">\n",
       "      <th></th>\n",
       "      <th>id</th>\n",
       "      <th>token</th>\n",
       "      <th>amount</th>\n",
       "      <th>source_wallet</th>\n",
       "      <th>destination_wallet</th>\n",
       "      <th>created_at</th>\n",
       "      <th>project_round</th>\n",
       "    </tr>\n",
       "  </thead>\n",
       "  <tbody>\n",
       "    <tr>\n",
       "      <th>0</th>\n",
       "      <td>11f159yjRryCZgNBebpqaa8FUCpApzNtkW2SBpY9EQL</td>\n",
       "      <td>ETH</td>\n",
       "      <td>0.00100</td>\n",
       "      <td>0xe95ab07a55e8489fe8e81e3281c8b3fd95c7d8af</td>\n",
       "      <td>0xd27e1a1a60ebc1b70f4cae5265092c0f6edc7f9d</td>\n",
       "      <td>2022-12-17 14:37:47</td>\n",
       "      <td>UNICEF</td>\n",
       "    </tr>\n",
       "    <tr>\n",
       "      <th>1</th>\n",
       "      <td>121Bu9DQH2XYZRmpc4MBME9u31VbztuffyzZawSHyx5W</td>\n",
       "      <td>ETH</td>\n",
       "      <td>0.00085</td>\n",
       "      <td>0x7d1ef741c40ddffdd4f19549d42fed9a0193f8ea</td>\n",
       "      <td>0x39d77e51c485f1ff65b1b3b42e9f67cda221f597</td>\n",
       "      <td>2022-12-19 18:02:59</td>\n",
       "      <td>UNICEF</td>\n",
       "    </tr>\n",
       "  </tbody>\n",
       "</table>\n",
       "</div>"
      ],
      "text/plain": [
       "                                             id token   amount  \\\n",
       "0   11f159yjRryCZgNBebpqaa8FUCpApzNtkW2SBpY9EQL   ETH  0.00100   \n",
       "1  121Bu9DQH2XYZRmpc4MBME9u31VbztuffyzZawSHyx5W   ETH  0.00085   \n",
       "\n",
       "                                source_wallet  \\\n",
       "0  0xe95ab07a55e8489fe8e81e3281c8b3fd95c7d8af   \n",
       "1  0x7d1ef741c40ddffdd4f19549d42fed9a0193f8ea   \n",
       "\n",
       "                           destination_wallet           created_at  \\\n",
       "0  0xd27e1a1a60ebc1b70f4cae5265092c0f6edc7f9d  2022-12-17 14:37:47   \n",
       "1  0x39d77e51c485f1ff65b1b3b42e9f67cda221f597  2022-12-19 18:02:59   \n",
       "\n",
       "  project_round  \n",
       "0        UNICEF  \n",
       "1        UNICEF  "
      ]
     },
     "execution_count": 9,
     "metadata": {},
     "output_type": "execute_result"
    }
   ],
   "source": [
    "df_unicef_votes.head(2)"
   ]
  },
  {
   "cell_type": "code",
   "execution_count": 10,
   "metadata": {},
   "outputs": [
    {
     "data": {
      "text/plain": [
       "id                    0\n",
       "token                 0\n",
       "amount                0\n",
       "source_wallet         0\n",
       "destination_wallet    0\n",
       "created_at            0\n",
       "project_round         0\n",
       "dtype: int64"
      ]
     },
     "execution_count": 10,
     "metadata": {},
     "output_type": "execute_result"
    }
   ],
   "source": [
    "df_unicef_votes.isna().sum()"
   ]
  },
  {
   "cell_type": "code",
   "execution_count": 11,
   "metadata": {},
   "outputs": [
    {
     "data": {
      "text/plain": [
       "array(['ETH', 'DAI'], dtype=object)"
      ]
     },
     "execution_count": 11,
     "metadata": {},
     "output_type": "execute_result"
    }
   ],
   "source": [
    "df_unicef_votes.token.unique()"
   ]
  },
  {
   "cell_type": "code",
   "execution_count": 12,
   "metadata": {},
   "outputs": [
    {
     "data": {
      "text/html": [
       "<div>\n",
       "<style scoped>\n",
       "    .dataframe tbody tr th:only-of-type {\n",
       "        vertical-align: middle;\n",
       "    }\n",
       "\n",
       "    .dataframe tbody tr th {\n",
       "        vertical-align: top;\n",
       "    }\n",
       "\n",
       "    .dataframe thead th {\n",
       "        text-align: right;\n",
       "    }\n",
       "</style>\n",
       "<table border=\"1\" class=\"dataframe\">\n",
       "  <thead>\n",
       "    <tr style=\"text-align: right;\">\n",
       "      <th></th>\n",
       "      <th>address</th>\n",
       "      <th>grant_id</th>\n",
       "      <th>checkout_type</th>\n",
       "      <th>amount_in_usdt</th>\n",
       "      <th>raw_amount_in_token</th>\n",
       "      <th>token</th>\n",
       "      <th>amount_in_token_minus_gas</th>\n",
       "      <th>tx_id</th>\n",
       "      <th>created_on</th>\n",
       "      <th>modified_on</th>\n",
       "      <th>project_round</th>\n",
       "    </tr>\n",
       "  </thead>\n",
       "  <tbody>\n",
       "    <tr>\n",
       "      <th>0</th>\n",
       "      <td>0x76f69dcddd0593b0aff5fd3280c3433ddb68e0d2</td>\n",
       "      <td>12</td>\n",
       "      <td>eth_std</td>\n",
       "      <td>0.064183</td>\n",
       "      <td>0.00005</td>\n",
       "      <td>ETH</td>\n",
       "      <td>0.00005</td>\n",
       "      <td>NaN</td>\n",
       "      <td>2022-09-22 23:59:57.030620+00:00</td>\n",
       "      <td>2022-09-23 00:12:56.621368+00:00</td>\n",
       "      <td>GR15</td>\n",
       "    </tr>\n",
       "    <tr>\n",
       "      <th>1</th>\n",
       "      <td>0x76f69dcddd0593b0aff5fd3280c3433ddb68e0d2</td>\n",
       "      <td>6972</td>\n",
       "      <td>eth_std</td>\n",
       "      <td>1.283650</td>\n",
       "      <td>0.00100</td>\n",
       "      <td>ETH</td>\n",
       "      <td>0.00100</td>\n",
       "      <td>NaN</td>\n",
       "      <td>2022-09-22 23:59:55.773190+00:00</td>\n",
       "      <td>2022-09-23 00:12:57.306838+00:00</td>\n",
       "      <td>GR15</td>\n",
       "    </tr>\n",
       "  </tbody>\n",
       "</table>\n",
       "</div>"
      ],
      "text/plain": [
       "                                      address  grant_id checkout_type  \\\n",
       "0  0x76f69dcddd0593b0aff5fd3280c3433ddb68e0d2        12       eth_std   \n",
       "1  0x76f69dcddd0593b0aff5fd3280c3433ddb68e0d2      6972       eth_std   \n",
       "\n",
       "   amount_in_usdt  raw_amount_in_token token  amount_in_token_minus_gas tx_id  \\\n",
       "0        0.064183              0.00005   ETH                    0.00005   NaN   \n",
       "1        1.283650              0.00100   ETH                    0.00100   NaN   \n",
       "\n",
       "                         created_on                       modified_on  \\\n",
       "0  2022-09-22 23:59:57.030620+00:00  2022-09-23 00:12:56.621368+00:00   \n",
       "1  2022-09-22 23:59:55.773190+00:00  2022-09-23 00:12:57.306838+00:00   \n",
       "\n",
       "  project_round  \n",
       "0          GR15  \n",
       "1          GR15  "
      ]
     },
     "execution_count": 12,
     "metadata": {},
     "output_type": "execute_result"
    }
   ],
   "source": [
    "df_gr15_votes.head(2)"
   ]
  },
  {
   "cell_type": "code",
   "execution_count": 13,
   "metadata": {},
   "outputs": [
    {
     "data": {
      "text/plain": [
       "address                           0\n",
       "grant_id                          0\n",
       "checkout_type                     7\n",
       "amount_in_usdt                    0\n",
       "raw_amount_in_token               0\n",
       "token                             0\n",
       "amount_in_token_minus_gas         0\n",
       "tx_id                        397128\n",
       "created_on                        0\n",
       "modified_on                       0\n",
       "project_round                     0\n",
       "dtype: int64"
      ]
     },
     "execution_count": 13,
     "metadata": {},
     "output_type": "execute_result"
    }
   ],
   "source": [
    "df_gr15_votes.isna().sum()"
   ]
  },
  {
   "cell_type": "code",
   "execution_count": 14,
   "metadata": {},
   "outputs": [
    {
     "data": {
      "text/html": [
       "<div>\n",
       "<style scoped>\n",
       "    .dataframe tbody tr th:only-of-type {\n",
       "        vertical-align: middle;\n",
       "    }\n",
       "\n",
       "    .dataframe tbody tr th {\n",
       "        vertical-align: top;\n",
       "    }\n",
       "\n",
       "    .dataframe thead th {\n",
       "        text-align: right;\n",
       "    }\n",
       "</style>\n",
       "<table border=\"1\" class=\"dataframe\">\n",
       "  <thead>\n",
       "    <tr style=\"text-align: right;\">\n",
       "      <th></th>\n",
       "      <th>address</th>\n",
       "      <th>grant_id</th>\n",
       "      <th>checkout_type</th>\n",
       "      <th>amount_in_usdt</th>\n",
       "      <th>raw_amount_in_token</th>\n",
       "      <th>token</th>\n",
       "      <th>amount_in_token_minus_gas</th>\n",
       "      <th>tx_id</th>\n",
       "      <th>created_on</th>\n",
       "      <th>modified_on</th>\n",
       "      <th>project_round</th>\n",
       "    </tr>\n",
       "  </thead>\n",
       "  <tbody>\n",
       "    <tr>\n",
       "      <th>155250</th>\n",
       "      <td>BMH7FDFVIXRZ2TD47SNOBYDIX3FSBIEMEYNIMG5SEIEKZ4...</td>\n",
       "      <td>5463</td>\n",
       "      <td>NaN</td>\n",
       "      <td>1.701859</td>\n",
       "      <td>5.000</td>\n",
       "      <td>ALGO</td>\n",
       "      <td>5.000</td>\n",
       "      <td>7UCBSZPNBHCI4MNAKDYZUF3NDYVYYND6C5522Y7SJJAEMJ...</td>\n",
       "      <td>2022-09-20 07:51:29.255929+00:00</td>\n",
       "      <td>2022-10-17 07:08:55.933010+00:00</td>\n",
       "      <td>GR15</td>\n",
       "    </tr>\n",
       "    <tr>\n",
       "      <th>194296</th>\n",
       "      <td>0x48EEB331Dd43445f320A22B69D623D661060936f</td>\n",
       "      <td>7174</td>\n",
       "      <td>NaN</td>\n",
       "      <td>1.362249</td>\n",
       "      <td>0.005</td>\n",
       "      <td>BNB</td>\n",
       "      <td>0.005</td>\n",
       "      <td>0x6aa8595f953d4352bfb881f06cd24c039b861867c74d...</td>\n",
       "      <td>2022-09-18 22:23:25.648282+00:00</td>\n",
       "      <td>2022-10-17 07:09:39.596498+00:00</td>\n",
       "      <td>GR15</td>\n",
       "    </tr>\n",
       "    <tr>\n",
       "      <th>347722</th>\n",
       "      <td>0x1D19dA85322C5F14201bE546c326E0e6f521B6E6</td>\n",
       "      <td>7174</td>\n",
       "      <td>NaN</td>\n",
       "      <td>1.094703</td>\n",
       "      <td>1.100</td>\n",
       "      <td>BUSD</td>\n",
       "      <td>1.100</td>\n",
       "      <td>0x264301a6263228cb53387715eee3c2d9f4baba3bd47f...</td>\n",
       "      <td>2022-09-12 14:41:47.938790+00:00</td>\n",
       "      <td>2022-10-17 07:15:00.389734+00:00</td>\n",
       "      <td>GR15</td>\n",
       "    </tr>\n",
       "    <tr>\n",
       "      <th>415511</th>\n",
       "      <td>QJE3BOSZDA46IWLNOPQKML73GR7OCIOM66Y7VPSUOFVNP2...</td>\n",
       "      <td>5404</td>\n",
       "      <td>NaN</td>\n",
       "      <td>1.618998</td>\n",
       "      <td>5.000</td>\n",
       "      <td>ALGO</td>\n",
       "      <td>5.000</td>\n",
       "      <td>Z2BEUJXLH3QTPW2DE4L3JSB3MWWYXJCOLJMFWEDHF6YLC3...</td>\n",
       "      <td>2022-09-10 07:01:12.754252+00:00</td>\n",
       "      <td>2022-10-17 07:17:06.559463+00:00</td>\n",
       "      <td>GR15</td>\n",
       "    </tr>\n",
       "    <tr>\n",
       "      <th>420285</th>\n",
       "      <td>QJE3BOSZDA46IWLNOPQKML73GR7OCIOM66Y7VPSUOFVNP2...</td>\n",
       "      <td>5404</td>\n",
       "      <td>NaN</td>\n",
       "      <td>1.601518</td>\n",
       "      <td>5.000</td>\n",
       "      <td>ALGO</td>\n",
       "      <td>5.000</td>\n",
       "      <td>EF6JHLPKJNYEDW5LB6HWCGF44MSXTJXEEQNRHBZK3QFGDN...</td>\n",
       "      <td>2022-09-09 19:20:56.063986+00:00</td>\n",
       "      <td>2022-10-17 07:17:31.408176+00:00</td>\n",
       "      <td>GR15</td>\n",
       "    </tr>\n",
       "    <tr>\n",
       "      <th>421580</th>\n",
       "      <td>QJE3BOSZDA46IWLNOPQKML73GR7OCIOM66Y7VPSUOFVNP2...</td>\n",
       "      <td>5404</td>\n",
       "      <td>NaN</td>\n",
       "      <td>1.596899</td>\n",
       "      <td>5.000</td>\n",
       "      <td>ALGO</td>\n",
       "      <td>5.000</td>\n",
       "      <td>WNEYGXR3Z6JXCN3ZWACYZP5BFNXWJTFFYSEVAETLUGJQQG...</td>\n",
       "      <td>2022-09-09 16:20:31.731115+00:00</td>\n",
       "      <td>2022-10-17 07:17:34.907060+00:00</td>\n",
       "      <td>GR15</td>\n",
       "    </tr>\n",
       "    <tr>\n",
       "      <th>443451</th>\n",
       "      <td>0xFFA17Ef7e40430C19ADcb15fA7E20B52C205DEc6</td>\n",
       "      <td>7159</td>\n",
       "      <td>NaN</td>\n",
       "      <td>1.002239</td>\n",
       "      <td>1.000</td>\n",
       "      <td>BUSD</td>\n",
       "      <td>1.000</td>\n",
       "      <td>0x132130a01d6974303cd480abe0f50d9bcfebc53421a6...</td>\n",
       "      <td>2022-09-08 08:15:41.381586+00:00</td>\n",
       "      <td>2022-10-17 07:18:27.043473+00:00</td>\n",
       "      <td>GR15</td>\n",
       "    </tr>\n",
       "  </tbody>\n",
       "</table>\n",
       "</div>"
      ],
      "text/plain": [
       "                                                  address  grant_id  \\\n",
       "155250  BMH7FDFVIXRZ2TD47SNOBYDIX3FSBIEMEYNIMG5SEIEKZ4...      5463   \n",
       "194296         0x48EEB331Dd43445f320A22B69D623D661060936f      7174   \n",
       "347722         0x1D19dA85322C5F14201bE546c326E0e6f521B6E6      7174   \n",
       "415511  QJE3BOSZDA46IWLNOPQKML73GR7OCIOM66Y7VPSUOFVNP2...      5404   \n",
       "420285  QJE3BOSZDA46IWLNOPQKML73GR7OCIOM66Y7VPSUOFVNP2...      5404   \n",
       "421580  QJE3BOSZDA46IWLNOPQKML73GR7OCIOM66Y7VPSUOFVNP2...      5404   \n",
       "443451         0xFFA17Ef7e40430C19ADcb15fA7E20B52C205DEc6      7159   \n",
       "\n",
       "       checkout_type  amount_in_usdt  raw_amount_in_token token  \\\n",
       "155250           NaN        1.701859                5.000  ALGO   \n",
       "194296           NaN        1.362249                0.005   BNB   \n",
       "347722           NaN        1.094703                1.100  BUSD   \n",
       "415511           NaN        1.618998                5.000  ALGO   \n",
       "420285           NaN        1.601518                5.000  ALGO   \n",
       "421580           NaN        1.596899                5.000  ALGO   \n",
       "443451           NaN        1.002239                1.000  BUSD   \n",
       "\n",
       "        amount_in_token_minus_gas  \\\n",
       "155250                      5.000   \n",
       "194296                      0.005   \n",
       "347722                      1.100   \n",
       "415511                      5.000   \n",
       "420285                      5.000   \n",
       "421580                      5.000   \n",
       "443451                      1.000   \n",
       "\n",
       "                                                    tx_id  \\\n",
       "155250  7UCBSZPNBHCI4MNAKDYZUF3NDYVYYND6C5522Y7SJJAEMJ...   \n",
       "194296  0x6aa8595f953d4352bfb881f06cd24c039b861867c74d...   \n",
       "347722  0x264301a6263228cb53387715eee3c2d9f4baba3bd47f...   \n",
       "415511  Z2BEUJXLH3QTPW2DE4L3JSB3MWWYXJCOLJMFWEDHF6YLC3...   \n",
       "420285  EF6JHLPKJNYEDW5LB6HWCGF44MSXTJXEEQNRHBZK3QFGDN...   \n",
       "421580  WNEYGXR3Z6JXCN3ZWACYZP5BFNXWJTFFYSEVAETLUGJQQG...   \n",
       "443451  0x132130a01d6974303cd480abe0f50d9bcfebc53421a6...   \n",
       "\n",
       "                              created_on                       modified_on  \\\n",
       "155250  2022-09-20 07:51:29.255929+00:00  2022-10-17 07:08:55.933010+00:00   \n",
       "194296  2022-09-18 22:23:25.648282+00:00  2022-10-17 07:09:39.596498+00:00   \n",
       "347722  2022-09-12 14:41:47.938790+00:00  2022-10-17 07:15:00.389734+00:00   \n",
       "415511  2022-09-10 07:01:12.754252+00:00  2022-10-17 07:17:06.559463+00:00   \n",
       "420285  2022-09-09 19:20:56.063986+00:00  2022-10-17 07:17:31.408176+00:00   \n",
       "421580  2022-09-09 16:20:31.731115+00:00  2022-10-17 07:17:34.907060+00:00   \n",
       "443451  2022-09-08 08:15:41.381586+00:00  2022-10-17 07:18:27.043473+00:00   \n",
       "\n",
       "       project_round  \n",
       "155250          GR15  \n",
       "194296          GR15  \n",
       "347722          GR15  \n",
       "415511          GR15  \n",
       "420285          GR15  \n",
       "421580          GR15  \n",
       "443451          GR15  "
      ]
     },
     "execution_count": 14,
     "metadata": {},
     "output_type": "execute_result"
    }
   ],
   "source": [
    "#explore checkout_type nan\n",
    "df_gr15_votes[df_gr15_votes.checkout_type.isna()]"
   ]
  },
  {
   "cell_type": "code",
   "execution_count": 15,
   "metadata": {},
   "outputs": [
    {
     "data": {
      "text/html": [
       "<div>\n",
       "<style scoped>\n",
       "    .dataframe tbody tr th:only-of-type {\n",
       "        vertical-align: middle;\n",
       "    }\n",
       "\n",
       "    .dataframe tbody tr th {\n",
       "        vertical-align: top;\n",
       "    }\n",
       "\n",
       "    .dataframe thead th {\n",
       "        text-align: right;\n",
       "    }\n",
       "</style>\n",
       "<table border=\"1\" class=\"dataframe\">\n",
       "  <thead>\n",
       "    <tr style=\"text-align: right;\">\n",
       "      <th></th>\n",
       "      <th>address</th>\n",
       "      <th>grant_id</th>\n",
       "      <th>checkout_type</th>\n",
       "      <th>amount_in_usdt</th>\n",
       "      <th>raw_amount_in_token</th>\n",
       "      <th>token</th>\n",
       "      <th>amount_in_token_minus_gas</th>\n",
       "      <th>tx_id</th>\n",
       "      <th>created_on</th>\n",
       "      <th>modified_on</th>\n",
       "      <th>project_round</th>\n",
       "    </tr>\n",
       "  </thead>\n",
       "  <tbody>\n",
       "    <tr>\n",
       "      <th>155250</th>\n",
       "      <td>BMH7FDFVIXRZ2TD47SNOBYDIX3FSBIEMEYNIMG5SEIEKZ4...</td>\n",
       "      <td>5463</td>\n",
       "      <td>NaN</td>\n",
       "      <td>1.701859</td>\n",
       "      <td>5.0</td>\n",
       "      <td>ALGO</td>\n",
       "      <td>5.0</td>\n",
       "      <td>7UCBSZPNBHCI4MNAKDYZUF3NDYVYYND6C5522Y7SJJAEMJ...</td>\n",
       "      <td>2022-09-20 07:51:29.255929+00:00</td>\n",
       "      <td>2022-10-17 07:08:55.933010+00:00</td>\n",
       "      <td>GR15</td>\n",
       "    </tr>\n",
       "    <tr>\n",
       "      <th>415511</th>\n",
       "      <td>QJE3BOSZDA46IWLNOPQKML73GR7OCIOM66Y7VPSUOFVNP2...</td>\n",
       "      <td>5404</td>\n",
       "      <td>NaN</td>\n",
       "      <td>1.618998</td>\n",
       "      <td>5.0</td>\n",
       "      <td>ALGO</td>\n",
       "      <td>5.0</td>\n",
       "      <td>Z2BEUJXLH3QTPW2DE4L3JSB3MWWYXJCOLJMFWEDHF6YLC3...</td>\n",
       "      <td>2022-09-10 07:01:12.754252+00:00</td>\n",
       "      <td>2022-10-17 07:17:06.559463+00:00</td>\n",
       "      <td>GR15</td>\n",
       "    </tr>\n",
       "    <tr>\n",
       "      <th>420285</th>\n",
       "      <td>QJE3BOSZDA46IWLNOPQKML73GR7OCIOM66Y7VPSUOFVNP2...</td>\n",
       "      <td>5404</td>\n",
       "      <td>NaN</td>\n",
       "      <td>1.601518</td>\n",
       "      <td>5.0</td>\n",
       "      <td>ALGO</td>\n",
       "      <td>5.0</td>\n",
       "      <td>EF6JHLPKJNYEDW5LB6HWCGF44MSXTJXEEQNRHBZK3QFGDN...</td>\n",
       "      <td>2022-09-09 19:20:56.063986+00:00</td>\n",
       "      <td>2022-10-17 07:17:31.408176+00:00</td>\n",
       "      <td>GR15</td>\n",
       "    </tr>\n",
       "    <tr>\n",
       "      <th>421580</th>\n",
       "      <td>QJE3BOSZDA46IWLNOPQKML73GR7OCIOM66Y7VPSUOFVNP2...</td>\n",
       "      <td>5404</td>\n",
       "      <td>NaN</td>\n",
       "      <td>1.596899</td>\n",
       "      <td>5.0</td>\n",
       "      <td>ALGO</td>\n",
       "      <td>5.0</td>\n",
       "      <td>WNEYGXR3Z6JXCN3ZWACYZP5BFNXWJTFFYSEVAETLUGJQQG...</td>\n",
       "      <td>2022-09-09 16:20:31.731115+00:00</td>\n",
       "      <td>2022-10-17 07:17:34.907060+00:00</td>\n",
       "      <td>GR15</td>\n",
       "    </tr>\n",
       "  </tbody>\n",
       "</table>\n",
       "</div>"
      ],
      "text/plain": [
       "                                                  address  grant_id  \\\n",
       "155250  BMH7FDFVIXRZ2TD47SNOBYDIX3FSBIEMEYNIMG5SEIEKZ4...      5463   \n",
       "415511  QJE3BOSZDA46IWLNOPQKML73GR7OCIOM66Y7VPSUOFVNP2...      5404   \n",
       "420285  QJE3BOSZDA46IWLNOPQKML73GR7OCIOM66Y7VPSUOFVNP2...      5404   \n",
       "421580  QJE3BOSZDA46IWLNOPQKML73GR7OCIOM66Y7VPSUOFVNP2...      5404   \n",
       "\n",
       "       checkout_type  amount_in_usdt  raw_amount_in_token token  \\\n",
       "155250           NaN        1.701859                  5.0  ALGO   \n",
       "415511           NaN        1.618998                  5.0  ALGO   \n",
       "420285           NaN        1.601518                  5.0  ALGO   \n",
       "421580           NaN        1.596899                  5.0  ALGO   \n",
       "\n",
       "        amount_in_token_minus_gas  \\\n",
       "155250                        5.0   \n",
       "415511                        5.0   \n",
       "420285                        5.0   \n",
       "421580                        5.0   \n",
       "\n",
       "                                                    tx_id  \\\n",
       "155250  7UCBSZPNBHCI4MNAKDYZUF3NDYVYYND6C5522Y7SJJAEMJ...   \n",
       "415511  Z2BEUJXLH3QTPW2DE4L3JSB3MWWYXJCOLJMFWEDHF6YLC3...   \n",
       "420285  EF6JHLPKJNYEDW5LB6HWCGF44MSXTJXEEQNRHBZK3QFGDN...   \n",
       "421580  WNEYGXR3Z6JXCN3ZWACYZP5BFNXWJTFFYSEVAETLUGJQQG...   \n",
       "\n",
       "                              created_on                       modified_on  \\\n",
       "155250  2022-09-20 07:51:29.255929+00:00  2022-10-17 07:08:55.933010+00:00   \n",
       "415511  2022-09-10 07:01:12.754252+00:00  2022-10-17 07:17:06.559463+00:00   \n",
       "420285  2022-09-09 19:20:56.063986+00:00  2022-10-17 07:17:31.408176+00:00   \n",
       "421580  2022-09-09 16:20:31.731115+00:00  2022-10-17 07:17:34.907060+00:00   \n",
       "\n",
       "       project_round  \n",
       "155250          GR15  \n",
       "415511          GR15  \n",
       "420285          GR15  \n",
       "421580          GR15  "
      ]
     },
     "execution_count": 15,
     "metadata": {},
     "output_type": "execute_result"
    }
   ],
   "source": [
    "df_gr15_votes[df_gr15_votes.token == 'ALGO']"
   ]
  },
  {
   "cell_type": "code",
   "execution_count": 16,
   "metadata": {},
   "outputs": [
    {
     "data": {
      "text/html": [
       "<div>\n",
       "<style scoped>\n",
       "    .dataframe tbody tr th:only-of-type {\n",
       "        vertical-align: middle;\n",
       "    }\n",
       "\n",
       "    .dataframe tbody tr th {\n",
       "        vertical-align: top;\n",
       "    }\n",
       "\n",
       "    .dataframe thead th {\n",
       "        text-align: right;\n",
       "    }\n",
       "</style>\n",
       "<table border=\"1\" class=\"dataframe\">\n",
       "  <thead>\n",
       "    <tr style=\"text-align: right;\">\n",
       "      <th></th>\n",
       "      <th>address</th>\n",
       "      <th>grant_id</th>\n",
       "      <th>checkout_type</th>\n",
       "      <th>amount_in_usdt</th>\n",
       "      <th>raw_amount_in_token</th>\n",
       "      <th>token</th>\n",
       "      <th>amount_in_token_minus_gas</th>\n",
       "      <th>tx_id</th>\n",
       "      <th>created_on</th>\n",
       "      <th>modified_on</th>\n",
       "      <th>project_round</th>\n",
       "    </tr>\n",
       "  </thead>\n",
       "  <tbody>\n",
       "    <tr>\n",
       "      <th>347722</th>\n",
       "      <td>0x1D19dA85322C5F14201bE546c326E0e6f521B6E6</td>\n",
       "      <td>7174</td>\n",
       "      <td>NaN</td>\n",
       "      <td>1.094703</td>\n",
       "      <td>1.1</td>\n",
       "      <td>BUSD</td>\n",
       "      <td>1.1</td>\n",
       "      <td>0x264301a6263228cb53387715eee3c2d9f4baba3bd47f...</td>\n",
       "      <td>2022-09-12 14:41:47.938790+00:00</td>\n",
       "      <td>2022-10-17 07:15:00.389734+00:00</td>\n",
       "      <td>GR15</td>\n",
       "    </tr>\n",
       "    <tr>\n",
       "      <th>443451</th>\n",
       "      <td>0xFFA17Ef7e40430C19ADcb15fA7E20B52C205DEc6</td>\n",
       "      <td>7159</td>\n",
       "      <td>NaN</td>\n",
       "      <td>1.002239</td>\n",
       "      <td>1.0</td>\n",
       "      <td>BUSD</td>\n",
       "      <td>1.0</td>\n",
       "      <td>0x132130a01d6974303cd480abe0f50d9bcfebc53421a6...</td>\n",
       "      <td>2022-09-08 08:15:41.381586+00:00</td>\n",
       "      <td>2022-10-17 07:18:27.043473+00:00</td>\n",
       "      <td>GR15</td>\n",
       "    </tr>\n",
       "  </tbody>\n",
       "</table>\n",
       "</div>"
      ],
      "text/plain": [
       "                                           address  grant_id checkout_type  \\\n",
       "347722  0x1D19dA85322C5F14201bE546c326E0e6f521B6E6      7174           NaN   \n",
       "443451  0xFFA17Ef7e40430C19ADcb15fA7E20B52C205DEc6      7159           NaN   \n",
       "\n",
       "        amount_in_usdt  raw_amount_in_token token  amount_in_token_minus_gas  \\\n",
       "347722        1.094703                  1.1  BUSD                        1.1   \n",
       "443451        1.002239                  1.0  BUSD                        1.0   \n",
       "\n",
       "                                                    tx_id  \\\n",
       "347722  0x264301a6263228cb53387715eee3c2d9f4baba3bd47f...   \n",
       "443451  0x132130a01d6974303cd480abe0f50d9bcfebc53421a6...   \n",
       "\n",
       "                              created_on                       modified_on  \\\n",
       "347722  2022-09-12 14:41:47.938790+00:00  2022-10-17 07:15:00.389734+00:00   \n",
       "443451  2022-09-08 08:15:41.381586+00:00  2022-10-17 07:18:27.043473+00:00   \n",
       "\n",
       "       project_round  \n",
       "347722          GR15  \n",
       "443451          GR15  "
      ]
     },
     "execution_count": 16,
     "metadata": {},
     "output_type": "execute_result"
    }
   ],
   "source": [
    "df_gr15_votes[df_gr15_votes.token == 'BUSD']"
   ]
  },
  {
   "cell_type": "code",
   "execution_count": 17,
   "metadata": {},
   "outputs": [
    {
     "data": {
      "text/html": [
       "<div>\n",
       "<style scoped>\n",
       "    .dataframe tbody tr th:only-of-type {\n",
       "        vertical-align: middle;\n",
       "    }\n",
       "\n",
       "    .dataframe tbody tr th {\n",
       "        vertical-align: top;\n",
       "    }\n",
       "\n",
       "    .dataframe thead th {\n",
       "        text-align: right;\n",
       "    }\n",
       "</style>\n",
       "<table border=\"1\" class=\"dataframe\">\n",
       "  <thead>\n",
       "    <tr style=\"text-align: right;\">\n",
       "      <th></th>\n",
       "      <th>address</th>\n",
       "      <th>grant_id</th>\n",
       "      <th>checkout_type</th>\n",
       "      <th>amount_in_usdt</th>\n",
       "      <th>raw_amount_in_token</th>\n",
       "      <th>token</th>\n",
       "      <th>amount_in_token_minus_gas</th>\n",
       "      <th>tx_id</th>\n",
       "      <th>created_on</th>\n",
       "      <th>modified_on</th>\n",
       "      <th>project_round</th>\n",
       "    </tr>\n",
       "  </thead>\n",
       "  <tbody>\n",
       "    <tr>\n",
       "      <th>194296</th>\n",
       "      <td>0x48EEB331Dd43445f320A22B69D623D661060936f</td>\n",
       "      <td>7174</td>\n",
       "      <td>NaN</td>\n",
       "      <td>1.362249</td>\n",
       "      <td>0.005</td>\n",
       "      <td>BNB</td>\n",
       "      <td>0.005</td>\n",
       "      <td>0x6aa8595f953d4352bfb881f06cd24c039b861867c74d...</td>\n",
       "      <td>2022-09-18 22:23:25.648282+00:00</td>\n",
       "      <td>2022-10-17 07:09:39.596498+00:00</td>\n",
       "      <td>GR15</td>\n",
       "    </tr>\n",
       "  </tbody>\n",
       "</table>\n",
       "</div>"
      ],
      "text/plain": [
       "                                           address  grant_id checkout_type  \\\n",
       "194296  0x48EEB331Dd43445f320A22B69D623D661060936f      7174           NaN   \n",
       "\n",
       "        amount_in_usdt  raw_amount_in_token token  amount_in_token_minus_gas  \\\n",
       "194296        1.362249                0.005   BNB                      0.005   \n",
       "\n",
       "                                                    tx_id  \\\n",
       "194296  0x6aa8595f953d4352bfb881f06cd24c039b861867c74d...   \n",
       "\n",
       "                              created_on                       modified_on  \\\n",
       "194296  2022-09-18 22:23:25.648282+00:00  2022-10-17 07:09:39.596498+00:00   \n",
       "\n",
       "       project_round  \n",
       "194296          GR15  "
      ]
     },
     "execution_count": 17,
     "metadata": {},
     "output_type": "execute_result"
    }
   ],
   "source": [
    "df_gr15_votes[df_gr15_votes.token == 'BNB']"
   ]
  },
  {
   "attachments": {},
   "cell_type": "markdown",
   "metadata": {},
   "source": [
    "Those transactions look to have been performed by mistake or it may be by unexperienced users that have sent a predifined amount of token to that address because someone told them to do so\n",
    "They have not been through the normal process that is why they don't have checkout_type and therefore they could be attackers\n",
    "For or analysis we don't remove them to be able to flag those grants as suspect.\n"
   ]
  },
  {
   "cell_type": "code",
   "execution_count": 18,
   "metadata": {},
   "outputs": [
    {
     "data": {
      "text/plain": [
       "array(['ETH', 'MATIC', 'DAI', 'USDC', 'USDT', 'PAN', 'FRAX', 'WETH',\n",
       "       '1INCH', 'APE', 'sUSD', 'WBTC', 'OUSD', 'LINK', 'UNI', 'ZRX',\n",
       "       'UBI', 'MANA', 'BAT', 'RAI', 'SUSHI', 'SEED', 'BZZ', 'LPT', 'ALGO',\n",
       "       'BOBA', 'BADGER', 'BNB', 'BAL', 'STORJ', 'CELO', 'BUSD', 'cUSD',\n",
       "       'COMP', 'BICO', 'GRT', 'SNX', 'PERP'], dtype=object)"
      ]
     },
     "execution_count": 18,
     "metadata": {},
     "output_type": "execute_result"
    }
   ],
   "source": [
    "df_gr15_votes.token.unique()"
   ]
  },
  {
   "cell_type": "code",
   "execution_count": 19,
   "metadata": {},
   "outputs": [
    {
     "data": {
      "text/html": [
       "<div>\n",
       "<style scoped>\n",
       "    .dataframe tbody tr th:only-of-type {\n",
       "        vertical-align: middle;\n",
       "    }\n",
       "\n",
       "    .dataframe tbody tr th {\n",
       "        vertical-align: top;\n",
       "    }\n",
       "\n",
       "    .dataframe thead th {\n",
       "        text-align: right;\n",
       "    }\n",
       "</style>\n",
       "<table border=\"1\" class=\"dataframe\">\n",
       "  <thead>\n",
       "    <tr style=\"text-align: right;\">\n",
       "      <th></th>\n",
       "      <th>id</th>\n",
       "      <th>token</th>\n",
       "      <th>amount</th>\n",
       "      <th>source_wallet</th>\n",
       "      <th>destination_wallet</th>\n",
       "      <th>created_at</th>\n",
       "      <th>project_round</th>\n",
       "    </tr>\n",
       "  </thead>\n",
       "  <tbody>\n",
       "    <tr>\n",
       "      <th>0</th>\n",
       "      <td>122jFcgBDgXR2oKHUC2oL5jpFTytQccwqf8g9bU45YVV</td>\n",
       "      <td>DAI</td>\n",
       "      <td>2.000000</td>\n",
       "      <td>0x6d090246fb2dbadfc9d9784705a415014c96876a</td>\n",
       "      <td>0xe126b3e5d052f1f575828f61feba4f4f2603652a</td>\n",
       "      <td>2023-01-24 02:44:23</td>\n",
       "      <td>OSS</td>\n",
       "    </tr>\n",
       "    <tr>\n",
       "      <th>1</th>\n",
       "      <td>125ugmdvNGpacunT8jxkg9HUrckjFdXho3MFB2LxCYXi</td>\n",
       "      <td>ETH</td>\n",
       "      <td>0.001326</td>\n",
       "      <td>0x665caad23417d378c4abca024bf57e65d2196c95</td>\n",
       "      <td>0x08a3c2a819e3de7aca384c798269b3ce1cd0e437</td>\n",
       "      <td>2023-01-22 16:36:35</td>\n",
       "      <td>OSS</td>\n",
       "    </tr>\n",
       "  </tbody>\n",
       "</table>\n",
       "</div>"
      ],
      "text/plain": [
       "                                             id token    amount  \\\n",
       "0  122jFcgBDgXR2oKHUC2oL5jpFTytQccwqf8g9bU45YVV   DAI  2.000000   \n",
       "1  125ugmdvNGpacunT8jxkg9HUrckjFdXho3MFB2LxCYXi   ETH  0.001326   \n",
       "\n",
       "                                source_wallet  \\\n",
       "0  0x6d090246fb2dbadfc9d9784705a415014c96876a   \n",
       "1  0x665caad23417d378c4abca024bf57e65d2196c95   \n",
       "\n",
       "                           destination_wallet           created_at  \\\n",
       "0  0xe126b3e5d052f1f575828f61feba4f4f2603652a  2023-01-24 02:44:23   \n",
       "1  0x08a3c2a819e3de7aca384c798269b3ce1cd0e437  2023-01-22 16:36:35   \n",
       "\n",
       "  project_round  \n",
       "0           OSS  \n",
       "1           OSS  "
      ]
     },
     "execution_count": 19,
     "metadata": {},
     "output_type": "execute_result"
    }
   ],
   "source": [
    "df_oss_votes.head(2)"
   ]
  },
  {
   "cell_type": "code",
   "execution_count": 20,
   "metadata": {},
   "outputs": [
    {
     "data": {
      "text/plain": [
       "array(['DAI', 'ETH'], dtype=object)"
      ]
     },
     "execution_count": 20,
     "metadata": {},
     "output_type": "execute_result"
    }
   ],
   "source": [
    "df_oss_votes.token.unique()"
   ]
  },
  {
   "cell_type": "code",
   "execution_count": 21,
   "metadata": {},
   "outputs": [
    {
     "data": {
      "text/plain": [
       "id                    0\n",
       "token                 0\n",
       "amount                0\n",
       "source_wallet         0\n",
       "destination_wallet    0\n",
       "created_at            0\n",
       "project_round         0\n",
       "dtype: int64"
      ]
     },
     "execution_count": 21,
     "metadata": {},
     "output_type": "execute_result"
    }
   ],
   "source": [
    "df_oss_votes.isna().sum()"
   ]
  },
  {
   "cell_type": "code",
   "execution_count": 22,
   "metadata": {},
   "outputs": [
    {
     "data": {
      "text/html": [
       "<div>\n",
       "<style scoped>\n",
       "    .dataframe tbody tr th:only-of-type {\n",
       "        vertical-align: middle;\n",
       "    }\n",
       "\n",
       "    .dataframe tbody tr th {\n",
       "        vertical-align: top;\n",
       "    }\n",
       "\n",
       "    .dataframe thead th {\n",
       "        text-align: right;\n",
       "    }\n",
       "</style>\n",
       "<table border=\"1\" class=\"dataframe\">\n",
       "  <thead>\n",
       "    <tr style=\"text-align: right;\">\n",
       "      <th></th>\n",
       "      <th>id</th>\n",
       "      <th>token</th>\n",
       "      <th>amount</th>\n",
       "      <th>source_wallet</th>\n",
       "      <th>destination_wallet</th>\n",
       "      <th>created_at</th>\n",
       "      <th>project_round</th>\n",
       "    </tr>\n",
       "  </thead>\n",
       "  <tbody>\n",
       "    <tr>\n",
       "      <th>0</th>\n",
       "      <td>12cDXga8oWiZnUUvJQFv8UHKv2usKZEefzRK5Kdh84Mq</td>\n",
       "      <td>DAI</td>\n",
       "      <td>2.0</td>\n",
       "      <td>0x5c7291e18c3ecf30e14ccf1dcd646c0ca3309113</td>\n",
       "      <td>0x14cb60f6aca2b2a68d975743bacb33f01f587da5</td>\n",
       "      <td>2023-01-18 04:51:47</td>\n",
       "      <td>CLIMATE</td>\n",
       "    </tr>\n",
       "    <tr>\n",
       "      <th>1</th>\n",
       "      <td>12ENyxjNMPS9z9Dqn6R87irGkQghdepkSpBzcuRoHX8R</td>\n",
       "      <td>DAI</td>\n",
       "      <td>1.1</td>\n",
       "      <td>0x30aee7a692427143ba7e65efb7db35d360a0ac51</td>\n",
       "      <td>0xe07b0f3c2a669b656476e4d6a054f4922d539d3d</td>\n",
       "      <td>2023-01-19 09:42:47</td>\n",
       "      <td>CLIMATE</td>\n",
       "    </tr>\n",
       "  </tbody>\n",
       "</table>\n",
       "</div>"
      ],
      "text/plain": [
       "                                             id token  amount  \\\n",
       "0  12cDXga8oWiZnUUvJQFv8UHKv2usKZEefzRK5Kdh84Mq   DAI     2.0   \n",
       "1  12ENyxjNMPS9z9Dqn6R87irGkQghdepkSpBzcuRoHX8R   DAI     1.1   \n",
       "\n",
       "                                source_wallet  \\\n",
       "0  0x5c7291e18c3ecf30e14ccf1dcd646c0ca3309113   \n",
       "1  0x30aee7a692427143ba7e65efb7db35d360a0ac51   \n",
       "\n",
       "                           destination_wallet           created_at  \\\n",
       "0  0x14cb60f6aca2b2a68d975743bacb33f01f587da5  2023-01-18 04:51:47   \n",
       "1  0xe07b0f3c2a669b656476e4d6a054f4922d539d3d  2023-01-19 09:42:47   \n",
       "\n",
       "  project_round  \n",
       "0       CLIMATE  \n",
       "1       CLIMATE  "
      ]
     },
     "execution_count": 22,
     "metadata": {},
     "output_type": "execute_result"
    }
   ],
   "source": [
    "df_climate_votes.head(2)"
   ]
  },
  {
   "cell_type": "code",
   "execution_count": 23,
   "metadata": {},
   "outputs": [
    {
     "data": {
      "text/plain": [
       "id                    0\n",
       "token                 0\n",
       "amount                0\n",
       "source_wallet         0\n",
       "destination_wallet    0\n",
       "created_at            0\n",
       "project_round         0\n",
       "dtype: int64"
      ]
     },
     "execution_count": 23,
     "metadata": {},
     "output_type": "execute_result"
    }
   ],
   "source": [
    "df_climate_votes.isna().sum()"
   ]
  },
  {
   "cell_type": "code",
   "execution_count": 24,
   "metadata": {},
   "outputs": [
    {
     "data": {
      "text/plain": [
       "array(['DAI', 'ETH'], dtype=object)"
      ]
     },
     "execution_count": 24,
     "metadata": {},
     "output_type": "execute_result"
    }
   ],
   "source": [
    "df_climate_votes.token.unique()"
   ]
  },
  {
   "cell_type": "code",
   "execution_count": 25,
   "metadata": {},
   "outputs": [
    {
     "data": {
      "text/html": [
       "<div>\n",
       "<style scoped>\n",
       "    .dataframe tbody tr th:only-of-type {\n",
       "        vertical-align: middle;\n",
       "    }\n",
       "\n",
       "    .dataframe tbody tr th {\n",
       "        vertical-align: top;\n",
       "    }\n",
       "\n",
       "    .dataframe thead th {\n",
       "        text-align: right;\n",
       "    }\n",
       "</style>\n",
       "<table border=\"1\" class=\"dataframe\">\n",
       "  <thead>\n",
       "    <tr style=\"text-align: right;\">\n",
       "      <th></th>\n",
       "      <th>id</th>\n",
       "      <th>token</th>\n",
       "      <th>amount</th>\n",
       "      <th>source_wallet</th>\n",
       "      <th>destination_wallet</th>\n",
       "      <th>created_at</th>\n",
       "      <th>project_round</th>\n",
       "    </tr>\n",
       "  </thead>\n",
       "  <tbody>\n",
       "    <tr>\n",
       "      <th>0</th>\n",
       "      <td>12RJyog39pG6nGrSK7rrqo9iBALyqqZt1jzdedjpxTRo</td>\n",
       "      <td>ETH</td>\n",
       "      <td>0.0007</td>\n",
       "      <td>0x0a860ab1098d2d0f16e58e4b4e58e39229391928</td>\n",
       "      <td>0x08a3c2a819e3de7aca384c798269b3ce1cd0e437</td>\n",
       "      <td>2023-01-22 14:17:59</td>\n",
       "      <td>ETHEREUM</td>\n",
       "    </tr>\n",
       "    <tr>\n",
       "      <th>1</th>\n",
       "      <td>12SF5LPA8SMckzWBDVoLKx1v8JgtFucPCWhwrDvAbqqQ</td>\n",
       "      <td>ETH</td>\n",
       "      <td>0.0010</td>\n",
       "      <td>0xebbb623fc70bd37df61e369daf1285f8671bc404</td>\n",
       "      <td>0xc9a872868afa68ba937f65a1c5b4b252dab15d85</td>\n",
       "      <td>2023-01-25 02:28:11</td>\n",
       "      <td>ETHEREUM</td>\n",
       "    </tr>\n",
       "  </tbody>\n",
       "</table>\n",
       "</div>"
      ],
      "text/plain": [
       "                                             id token  amount  \\\n",
       "0  12RJyog39pG6nGrSK7rrqo9iBALyqqZt1jzdedjpxTRo   ETH  0.0007   \n",
       "1  12SF5LPA8SMckzWBDVoLKx1v8JgtFucPCWhwrDvAbqqQ   ETH  0.0010   \n",
       "\n",
       "                                source_wallet  \\\n",
       "0  0x0a860ab1098d2d0f16e58e4b4e58e39229391928   \n",
       "1  0xebbb623fc70bd37df61e369daf1285f8671bc404   \n",
       "\n",
       "                           destination_wallet           created_at  \\\n",
       "0  0x08a3c2a819e3de7aca384c798269b3ce1cd0e437  2023-01-22 14:17:59   \n",
       "1  0xc9a872868afa68ba937f65a1c5b4b252dab15d85  2023-01-25 02:28:11   \n",
       "\n",
       "  project_round  \n",
       "0      ETHEREUM  \n",
       "1      ETHEREUM  "
      ]
     },
     "execution_count": 25,
     "metadata": {},
     "output_type": "execute_result"
    }
   ],
   "source": [
    "df_ethereum_votes.head(2)"
   ]
  },
  {
   "cell_type": "code",
   "execution_count": 26,
   "metadata": {},
   "outputs": [
    {
     "data": {
      "text/plain": [
       "id                    0\n",
       "token                 0\n",
       "amount                0\n",
       "source_wallet         0\n",
       "destination_wallet    0\n",
       "created_at            0\n",
       "project_round         0\n",
       "dtype: int64"
      ]
     },
     "execution_count": 26,
     "metadata": {},
     "output_type": "execute_result"
    }
   ],
   "source": [
    "df_ethereum_votes.isna().sum()"
   ]
  },
  {
   "cell_type": "code",
   "execution_count": 27,
   "metadata": {},
   "outputs": [
    {
     "data": {
      "text/plain": [
       "array(['ETH', 'DAI'], dtype=object)"
      ]
     },
     "execution_count": 27,
     "metadata": {},
     "output_type": "execute_result"
    }
   ],
   "source": [
    "df_ethereum_votes.token.unique()"
   ]
  },
  {
   "attachments": {},
   "cell_type": "markdown",
   "metadata": {},
   "source": [
    "In gr15 the amount of the contribution is provided but it is not in both other data set as it is a relevant information to know the value in USD of the donation we will have to retrieve the exchange rate from flipside crypto for these token and dates"
   ]
  },
  {
   "cell_type": "code",
   "execution_count": 28,
   "metadata": {},
   "outputs": [
    {
     "name": "stdout",
     "output_type": "stream",
     "text": [
      "2022-12-12 13:07:49\n",
      "2022-12-09 09:56:11\n",
      "2023-01-01 23:59:55\n",
      "2022-12-21 05:59:23\n"
     ]
    }
   ],
   "source": [
    "print(df_fantom_votes.created_at.min())\n",
    "print(df_unicef_votes.created_at.min())\n",
    "print(df_fantom_votes.created_at.max())\n",
    "print(df_unicef_votes.created_at.max())"
   ]
  },
  {
   "attachments": {},
   "cell_type": "markdown",
   "metadata": {},
   "source": [
    "The exchange rate in USD needs to be retrieved from 2022-12-12 to 2023-01-01 ie the weeks of grant rounds\n",
    "for the tokens : **ETH FTM**\n",
    "Stable coin will be considered to have a stable value in USD and WFTM stable to FTM"
   ]
  },
  {
   "attachments": {},
   "cell_type": "markdown",
   "metadata": {},
   "source": [
    "### Df_applications exploration"
   ]
  },
  {
   "cell_type": "code",
   "execution_count": 29,
   "metadata": {},
   "outputs": [
    {
     "data": {
      "text/plain": [
       "id                                   0\n",
       "project                              0\n",
       "status                               0\n",
       "created_at                           0\n",
       "updated_at                           0\n",
       "application_round                    0\n",
       "wallet_address                       0\n",
       "last_updated                         0\n",
       "project_id                           0\n",
       "title                                0\n",
       "description                          0\n",
       "website                              0\n",
       "github_user                         61\n",
       "project_github                      65\n",
       "project_twitter                      7\n",
       "previous_funding                     0\n",
       "team_size                            0\n",
       "live_on_other_chains                 0\n",
       "project_value                        0\n",
       "improvements_to_existing_project    73\n",
       "project_round                        0\n",
       "dtype: int64"
      ]
     },
     "execution_count": 29,
     "metadata": {},
     "output_type": "execute_result"
    }
   ],
   "source": [
    "df_fantom_applications.isna().sum()"
   ]
  },
  {
   "cell_type": "code",
   "execution_count": 30,
   "metadata": {},
   "outputs": [
    {
     "data": {
      "text/plain": [
       "id                   0\n",
       "project              0\n",
       "status               0\n",
       "created_at           0\n",
       "updated_at           0\n",
       "application_round    1\n",
       "wallet_address       1\n",
       "last_updated         1\n",
       "project_id           1\n",
       "title                1\n",
       "description          1\n",
       "website              1\n",
       "project_github       3\n",
       "project_twitter      2\n",
       "github_user          7\n",
       "project_round        0\n",
       "dtype: int64"
      ]
     },
     "execution_count": 30,
     "metadata": {},
     "output_type": "execute_result"
    }
   ],
   "source": [
    "df_unicef_applications.isna().sum()"
   ]
  },
  {
   "cell_type": "code",
   "execution_count": 31,
   "metadata": {},
   "outputs": [
    {
     "data": {
      "text/html": [
       "<div>\n",
       "<style scoped>\n",
       "    .dataframe tbody tr th:only-of-type {\n",
       "        vertical-align: middle;\n",
       "    }\n",
       "\n",
       "    .dataframe tbody tr th {\n",
       "        vertical-align: top;\n",
       "    }\n",
       "\n",
       "    .dataframe thead th {\n",
       "        text-align: right;\n",
       "    }\n",
       "</style>\n",
       "<table border=\"1\" class=\"dataframe\">\n",
       "  <thead>\n",
       "    <tr style=\"text-align: right;\">\n",
       "      <th></th>\n",
       "      <th>id</th>\n",
       "      <th>project</th>\n",
       "      <th>status</th>\n",
       "      <th>created_at</th>\n",
       "      <th>updated_at</th>\n",
       "      <th>application_round</th>\n",
       "      <th>wallet_address</th>\n",
       "      <th>last_updated</th>\n",
       "      <th>project_id</th>\n",
       "      <th>title</th>\n",
       "      <th>description</th>\n",
       "      <th>website</th>\n",
       "      <th>project_github</th>\n",
       "      <th>project_twitter</th>\n",
       "      <th>github_user</th>\n",
       "      <th>project_round</th>\n",
       "    </tr>\n",
       "  </thead>\n",
       "  <tbody>\n",
       "    <tr>\n",
       "      <th>9</th>\n",
       "      <td>0xc8fca067d1ecb57b625e640263d153190fe1258c34e8...</td>\n",
       "      <td>0xc8fca067d1ecb57b625e640263d153190fe1258c34e8...</td>\n",
       "      <td>PENDING</td>\n",
       "      <td>2022-12-09 01:18:23</td>\n",
       "      <td>2022-12-09 01:18:23</td>\n",
       "      <td>NaN</td>\n",
       "      <td>NaN</td>\n",
       "      <td>NaN</td>\n",
       "      <td>NaN</td>\n",
       "      <td>NaN</td>\n",
       "      <td>NaN</td>\n",
       "      <td>NaN</td>\n",
       "      <td>NaN</td>\n",
       "      <td>NaN</td>\n",
       "      <td>NaN</td>\n",
       "      <td>UNICEF</td>\n",
       "    </tr>\n",
       "  </tbody>\n",
       "</table>\n",
       "</div>"
      ],
      "text/plain": [
       "                                                  id  \\\n",
       "9  0xc8fca067d1ecb57b625e640263d153190fe1258c34e8...   \n",
       "\n",
       "                                             project   status  \\\n",
       "9  0xc8fca067d1ecb57b625e640263d153190fe1258c34e8...  PENDING   \n",
       "\n",
       "            created_at           updated_at application_round wallet_address  \\\n",
       "9  2022-12-09 01:18:23  2022-12-09 01:18:23               NaN            NaN   \n",
       "\n",
       "   last_updated project_id title description website project_github  \\\n",
       "9           NaN        NaN   NaN         NaN     NaN            NaN   \n",
       "\n",
       "  project_twitter github_user project_round  \n",
       "9             NaN         NaN        UNICEF  "
      ]
     },
     "execution_count": 31,
     "metadata": {},
     "output_type": "execute_result"
    }
   ],
   "source": [
    "df_unicef_applications[df_unicef_applications['wallet_address'].isna()]"
   ]
  },
  {
   "cell_type": "code",
   "execution_count": 32,
   "metadata": {},
   "outputs": [
    {
     "data": {
      "text/plain": [
       "'0xc8fca067d1ecb57b625e640263d153190fe1258c34e8a4ae85396fe502fd6164-0xdf75054cd67217aee44b4f9e4ebc651c00330938'"
      ]
     },
     "execution_count": 32,
     "metadata": {},
     "output_type": "execute_result"
    }
   ],
   "source": [
    "df_unicef_applications[df_unicef_applications['wallet_address'].isna()].iloc[0,0]"
   ]
  },
  {
   "attachments": {},
   "cell_type": "markdown",
   "metadata": {},
   "source": [
    "0xdf75054cd67217aee44b4f9e4ebc651c00330938"
   ]
  },
  {
   "cell_type": "code",
   "execution_count": 33,
   "metadata": {},
   "outputs": [
    {
     "name": "stdout",
     "output_type": "stream",
     "text": [
      "0x8ddfa84bbf59c0e6dbd05a56e9b9931b64255f08\n"
     ]
    }
   ],
   "source": [
    "# find the address in df_unicef_votes.destination_wallet.unique() that is not in df_unicef_applications.wallet_address.unique()\n",
    "for address in df_unicef_votes.destination_wallet.unique():\n",
    "    if address not in df_unicef_applications.wallet_address.unique():\n",
    "        print(address)"
   ]
  },
  {
   "attachments": {},
   "cell_type": "markdown",
   "metadata": {},
   "source": [
    "We deduce that there is a match between that address and the destination wallet and the grant project without wallet_addres and assigned it to thet projecct\n",
    "Other values could also be updated using on chain data\n"
   ]
  },
  {
   "cell_type": "code",
   "execution_count": 34,
   "metadata": {},
   "outputs": [],
   "source": [
    "df_unicef_applications.loc[df_unicef_applications['wallet_address'].isna(), 'wallet_address'] = '0x8ddfa84bbf59c0e6dbd05a56e9b9931b64255f08'"
   ]
  },
  {
   "cell_type": "code",
   "execution_count": 35,
   "metadata": {},
   "outputs": [
    {
     "data": {
      "text/plain": [
       "0"
      ]
     },
     "execution_count": 35,
     "metadata": {},
     "output_type": "execute_result"
    }
   ],
   "source": [
    "#check if we assigned the value \n",
    "df_unicef_applications['wallet_address'].isna().sum()"
   ]
  },
  {
   "cell_type": "code",
   "execution_count": 36,
   "metadata": {},
   "outputs": [
    {
     "data": {
      "text/plain": [
       "grant_id         0\n",
       "active           0\n",
       "approved         0\n",
       "address          0\n",
       "title            0\n",
       "url              0\n",
       "description      2\n",
       "created_on       0\n",
       "project_round    0\n",
       "dtype: int64"
      ]
     },
     "execution_count": 36,
     "metadata": {},
     "output_type": "execute_result"
    }
   ],
   "source": [
    "df_gr15_applications.isna().sum()"
   ]
  },
  {
   "cell_type": "code",
   "execution_count": 37,
   "metadata": {},
   "outputs": [
    {
     "data": {
      "text/plain": [
       "id                             0\n",
       "project                        0\n",
       "status                         0\n",
       "created_at                     0\n",
       "updated_at                     0\n",
       "application_round              0\n",
       "wallet_address                 0\n",
       "last_updated                   0\n",
       "project_id                     0\n",
       "title                          0\n",
       "description                    0\n",
       "website                        0\n",
       "github_user                   28\n",
       "project_github                44\n",
       "project_twitter                6\n",
       "previous_funding               1\n",
       "team_size                      0\n",
       "verified_twitter_or_github     2\n",
       "links_to_github_or_org         0\n",
       "project_round                  0\n",
       "dtype: int64"
      ]
     },
     "execution_count": 37,
     "metadata": {},
     "output_type": "execute_result"
    }
   ],
   "source": [
    "df_oss_applications.isna().sum()"
   ]
  },
  {
   "cell_type": "code",
   "execution_count": 38,
   "metadata": {},
   "outputs": [
    {
     "data": {
      "text/plain": [
       "id                            0\n",
       "project                       0\n",
       "status                        0\n",
       "created_at                    0\n",
       "updated_at                    0\n",
       "application_round             0\n",
       "wallet_address                0\n",
       "last_updated                  0\n",
       "project_id                    0\n",
       "title                         0\n",
       "description                   0\n",
       "website                       0\n",
       "github_user                   7\n",
       "project_twitter               0\n",
       "previous_funding              2\n",
       "team_size                     0\n",
       "verified_twitter_or_github    0\n",
       "project_github                6\n",
       "project_round                 0\n",
       "dtype: int64"
      ]
     },
     "execution_count": 38,
     "metadata": {},
     "output_type": "execute_result"
    }
   ],
   "source": [
    "df_ethereum_applications.isna().sum()"
   ]
  },
  {
   "cell_type": "code",
   "execution_count": 39,
   "metadata": {},
   "outputs": [
    {
     "data": {
      "text/plain": [
       "id                    0\n",
       "project               0\n",
       "status                0\n",
       "created_at            0\n",
       "updated_at            0\n",
       "application_round     0\n",
       "wallet_address        0\n",
       "last_updated          0\n",
       "project_id            0\n",
       "title                 0\n",
       "description           0\n",
       "website               0\n",
       "github_user          27\n",
       "project_twitter      10\n",
       "previous_funding      0\n",
       "team_size             0\n",
       "project_github       36\n",
       "project_round         0\n",
       "dtype: int64"
      ]
     },
     "execution_count": 39,
     "metadata": {},
     "output_type": "execute_result"
    }
   ],
   "source": [
    "df_climate_applications.isna().sum()"
   ]
  },
  {
   "attachments": {},
   "cell_type": "markdown",
   "metadata": {},
   "source": [
    "Drop number columns"
   ]
  },
  {
   "attachments": {},
   "cell_type": "markdown",
   "metadata": {},
   "source": [
    "df_oss_applications.drop(labels=['1', '2', '3', '4'], axis=1, inplace=True)\n",
    "df_ethereum_applications.drop(labels=['1', '2', '3'], axis=1, inplace=True)\n",
    "df_climate_applications.drop(labels=['1', '2'], axis=1, inplace=True)\n"
   ]
  },
  {
   "attachments": {},
   "cell_type": "markdown",
   "metadata": {},
   "source": [
    "### Normalize columns before concatenating the data"
   ]
  },
  {
   "cell_type": "code",
   "execution_count": 40,
   "metadata": {},
   "outputs": [],
   "source": [
    "dict_mapping_ctbt = {\n",
    "'project_round': 'project_round',\n",
    "'id': 'ctbt_id',\n",
    "'grant_id': 'ctbt_id',\n",
    "'source_wallet':'ctbt_address',\n",
    "'address':'ctbt_address',\n",
    "'token':'ctbt_token',\n",
    "'amount':'ctbt_amount',\n",
    "'amount_in_token_minus_gas':'ctbt_amount',\n",
    "'destination_wallet':'project_address',\n",
    "'created_at':'ctbt_timestamp',\n",
    "'timestamp':'ctbt_timestamp',\n",
    "'created_on':'ctbt_timestamp',\n",
    "'amount_in_usdt':'ctbt_amount_in_usd',\n",
    "'network':'ctbt_network',\n",
    "'txn_hash':'ctbt_tx_hash',\n",
    "'tx_id':'ctbt_tx_hash',\n",
    "'chain':'ctbt_chain',\n",
    "'txn_id':'ctbt_txn_id',\n",
    "'modified_on':'ctbt_modified_on',\n",
    "'checkout_type ':'ctbt_checkout_type',\n",
    "'raw_amount_in_token ':'ctbt_raw_amount_in_token'\n",
    "}\n"
   ]
  },
  {
   "cell_type": "code",
   "execution_count": 41,
   "metadata": {},
   "outputs": [],
   "source": [
    "df_gr15_votes.rename(columns=dict_mapping_ctbt, inplace=True)\n",
    "df_fantom_votes.rename(columns=dict_mapping_ctbt, inplace=True)\n",
    "df_unicef_votes.rename(columns=dict_mapping_ctbt, inplace=True)\n",
    "df_oss_votes.rename(columns=dict_mapping_ctbt, inplace=True)\n",
    "df_ethereum_votes.rename(columns=dict_mapping_ctbt, inplace=True)\n",
    "df_climate_votes.rename(columns=dict_mapping_ctbt, inplace=True)"
   ]
  },
  {
   "cell_type": "code",
   "execution_count": 42,
   "metadata": {},
   "outputs": [
    {
     "data": {
      "text/plain": [
       "Index(['ctbt_address', 'ctbt_id', 'checkout_type', 'ctbt_amount_in_usd',\n",
       "       'raw_amount_in_token', 'ctbt_token', 'ctbt_amount', 'ctbt_tx_hash',\n",
       "       'ctbt_timestamp', 'ctbt_modified_on', 'project_round'],\n",
       "      dtype='object')"
      ]
     },
     "execution_count": 42,
     "metadata": {},
     "output_type": "execute_result"
    }
   ],
   "source": [
    "df_gr15_votes.columns"
   ]
  },
  {
   "cell_type": "code",
   "execution_count": 43,
   "metadata": {},
   "outputs": [
    {
     "data": {
      "text/plain": [
       "Index(['ctbt_id', 'ctbt_token', 'ctbt_amount', 'ctbt_address',\n",
       "       'project_address', 'ctbt_timestamp', 'project_round'],\n",
       "      dtype='object')"
      ]
     },
     "execution_count": 43,
     "metadata": {},
     "output_type": "execute_result"
    }
   ],
   "source": [
    "df_fantom_votes.columns"
   ]
  },
  {
   "cell_type": "code",
   "execution_count": 44,
   "metadata": {},
   "outputs": [
    {
     "data": {
      "text/plain": [
       "Index(['ctbt_id', 'ctbt_token', 'ctbt_amount', 'ctbt_address',\n",
       "       'project_address', 'ctbt_timestamp', 'project_round'],\n",
       "      dtype='object')"
      ]
     },
     "execution_count": 44,
     "metadata": {},
     "output_type": "execute_result"
    }
   ],
   "source": [
    "df_unicef_votes.columns"
   ]
  },
  {
   "cell_type": "code",
   "execution_count": 45,
   "metadata": {},
   "outputs": [
    {
     "data": {
      "text/plain": [
       "Index(['ctbt_id', 'ctbt_token', 'ctbt_amount', 'ctbt_address',\n",
       "       'project_address', 'ctbt_timestamp', 'project_round'],\n",
       "      dtype='object')"
      ]
     },
     "execution_count": 45,
     "metadata": {},
     "output_type": "execute_result"
    }
   ],
   "source": [
    "df_oss_votes.columns"
   ]
  },
  {
   "cell_type": "code",
   "execution_count": 46,
   "metadata": {},
   "outputs": [
    {
     "data": {
      "text/plain": [
       "Index(['ctbt_id', 'ctbt_token', 'ctbt_amount', 'ctbt_address',\n",
       "       'project_address', 'ctbt_timestamp', 'project_round'],\n",
       "      dtype='object')"
      ]
     },
     "execution_count": 46,
     "metadata": {},
     "output_type": "execute_result"
    }
   ],
   "source": [
    "df_climate_votes.columns"
   ]
  },
  {
   "cell_type": "code",
   "execution_count": 47,
   "metadata": {},
   "outputs": [
    {
     "data": {
      "text/plain": [
       "Index(['ctbt_id', 'ctbt_token', 'ctbt_amount', 'ctbt_address',\n",
       "       'project_address', 'ctbt_timestamp', 'project_round'],\n",
       "      dtype='object')"
      ]
     },
     "execution_count": 47,
     "metadata": {},
     "output_type": "execute_result"
    }
   ],
   "source": [
    "df_climate_votes.columns"
   ]
  },
  {
   "attachments": {},
   "cell_type": "markdown",
   "metadata": {},
   "source": [
    "#### Concatenate contribution data"
   ]
  },
  {
   "cell_type": "code",
   "execution_count": 48,
   "metadata": {},
   "outputs": [
    {
     "data": {
      "text/html": [
       "<div>\n",
       "<style scoped>\n",
       "    .dataframe tbody tr th:only-of-type {\n",
       "        vertical-align: middle;\n",
       "    }\n",
       "\n",
       "    .dataframe tbody tr th {\n",
       "        vertical-align: top;\n",
       "    }\n",
       "\n",
       "    .dataframe thead th {\n",
       "        text-align: right;\n",
       "    }\n",
       "</style>\n",
       "<table border=\"1\" class=\"dataframe\">\n",
       "  <thead>\n",
       "    <tr style=\"text-align: right;\">\n",
       "      <th></th>\n",
       "      <th>ctbt_id</th>\n",
       "      <th>ctbt_token</th>\n",
       "      <th>ctbt_amount</th>\n",
       "      <th>ctbt_address</th>\n",
       "      <th>project_address</th>\n",
       "      <th>ctbt_timestamp</th>\n",
       "      <th>project_round</th>\n",
       "      <th>checkout_type</th>\n",
       "      <th>ctbt_amount_in_usd</th>\n",
       "      <th>raw_amount_in_token</th>\n",
       "      <th>ctbt_tx_hash</th>\n",
       "      <th>ctbt_modified_on</th>\n",
       "    </tr>\n",
       "  </thead>\n",
       "  <tbody>\n",
       "    <tr>\n",
       "      <th>0</th>\n",
       "      <td>113dRUPwQJ9tTfeqeMRq2Mn8kfYrNyakTPdEhqFkVSe</td>\n",
       "      <td>FTM</td>\n",
       "      <td>1.0</td>\n",
       "      <td>0x06cd8288dc001024ce0a1cf39caaedc0e2db9c82</td>\n",
       "      <td>0xe126b3e5d052f1f575828f61feba4f4f2603652a</td>\n",
       "      <td>2022-12-24 16:26:49</td>\n",
       "      <td>FANTOM</td>\n",
       "      <td>NaN</td>\n",
       "      <td>NaN</td>\n",
       "      <td>NaN</td>\n",
       "      <td>NaN</td>\n",
       "      <td>NaN</td>\n",
       "    </tr>\n",
       "    <tr>\n",
       "      <th>1</th>\n",
       "      <td>11n4hU8NKy7gr5oBqJ1AeEyBKV7L47JGLpbrskoDBcf</td>\n",
       "      <td>FTM</td>\n",
       "      <td>4.9</td>\n",
       "      <td>0x9be7d88cfd6e4b519cd9720db6de6e6f2c1ca77e</td>\n",
       "      <td>0x7d658841f8ba93299970f6e765c2ce205f1e70dd</td>\n",
       "      <td>2022-12-22 13:09:47</td>\n",
       "      <td>FANTOM</td>\n",
       "      <td>NaN</td>\n",
       "      <td>NaN</td>\n",
       "      <td>NaN</td>\n",
       "      <td>NaN</td>\n",
       "      <td>NaN</td>\n",
       "    </tr>\n",
       "  </tbody>\n",
       "</table>\n",
       "</div>"
      ],
      "text/plain": [
       "                                       ctbt_id ctbt_token  ctbt_amount  \\\n",
       "0  113dRUPwQJ9tTfeqeMRq2Mn8kfYrNyakTPdEhqFkVSe        FTM          1.0   \n",
       "1  11n4hU8NKy7gr5oBqJ1AeEyBKV7L47JGLpbrskoDBcf        FTM          4.9   \n",
       "\n",
       "                                 ctbt_address  \\\n",
       "0  0x06cd8288dc001024ce0a1cf39caaedc0e2db9c82   \n",
       "1  0x9be7d88cfd6e4b519cd9720db6de6e6f2c1ca77e   \n",
       "\n",
       "                              project_address       ctbt_timestamp  \\\n",
       "0  0xe126b3e5d052f1f575828f61feba4f4f2603652a  2022-12-24 16:26:49   \n",
       "1  0x7d658841f8ba93299970f6e765c2ce205f1e70dd  2022-12-22 13:09:47   \n",
       "\n",
       "  project_round checkout_type  ctbt_amount_in_usd  raw_amount_in_token  \\\n",
       "0        FANTOM           NaN                 NaN                  NaN   \n",
       "1        FANTOM           NaN                 NaN                  NaN   \n",
       "\n",
       "  ctbt_tx_hash ctbt_modified_on  \n",
       "0          NaN              NaN  \n",
       "1          NaN              NaN  "
      ]
     },
     "execution_count": 48,
     "metadata": {},
     "output_type": "execute_result"
    }
   ],
   "source": [
    "df_contribution = pd.concat([df_fantom_votes, df_unicef_votes, df_gr15_votes, df_climate_votes, df_ethereum_votes, df_oss_votes], axis=0)\n",
    "df_contribution.head(2)"
   ]
  },
  {
   "attachments": {},
   "cell_type": "markdown",
   "metadata": {},
   "source": [
    "Use price feed to get amount in usd"
   ]
  },
  {
   "cell_type": "code",
   "execution_count": 49,
   "metadata": {},
   "outputs": [],
   "source": [
    "from sbscorer.flipside.FlipsideApi import FlipsideApi"
   ]
  },
  {
   "cell_type": "code",
   "execution_count": 50,
   "metadata": {},
   "outputs": [],
   "source": [
    "api_key = os.environ['FLIPSIDE_API_KEY']\n",
    "flipside_api = FlipsideApi(api_key)\n",
    "sql = flipside_api.get_price_feed_eth_ftm_sql_query()\n",
    "df_price_feed = flipside_api.execute_query(sql)"
   ]
  },
  {
   "cell_type": "code",
   "execution_count": 51,
   "metadata": {},
   "outputs": [
    {
     "data": {
      "text/html": [
       "<div>\n",
       "<style scoped>\n",
       "    .dataframe tbody tr th:only-of-type {\n",
       "        vertical-align: middle;\n",
       "    }\n",
       "\n",
       "    .dataframe tbody tr th {\n",
       "        vertical-align: top;\n",
       "    }\n",
       "\n",
       "    .dataframe thead th {\n",
       "        text-align: right;\n",
       "    }\n",
       "</style>\n",
       "<table border=\"1\" class=\"dataframe\">\n",
       "  <thead>\n",
       "    <tr style=\"text-align: right;\">\n",
       "      <th></th>\n",
       "      <th>id</th>\n",
       "      <th>recorded_hour</th>\n",
       "      <th>open</th>\n",
       "    </tr>\n",
       "  </thead>\n",
       "  <tbody>\n",
       "    <tr>\n",
       "      <th>0</th>\n",
       "      <td>fantom</td>\n",
       "      <td>2023-01-29 00:00:00.000</td>\n",
       "      <td>0.445554</td>\n",
       "    </tr>\n",
       "    <tr>\n",
       "      <th>1</th>\n",
       "      <td>fantom</td>\n",
       "      <td>2023-01-28 23:00:00.000</td>\n",
       "      <td>0.447577</td>\n",
       "    </tr>\n",
       "  </tbody>\n",
       "</table>\n",
       "</div>"
      ],
      "text/plain": [
       "       id            recorded_hour      open\n",
       "0  fantom  2023-01-29 00:00:00.000  0.445554\n",
       "1  fantom  2023-01-28 23:00:00.000  0.447577"
      ]
     },
     "execution_count": 51,
     "metadata": {},
     "output_type": "execute_result"
    }
   ],
   "source": [
    "df_price_feed.head(2)"
   ]
  },
  {
   "cell_type": "code",
   "execution_count": 52,
   "metadata": {},
   "outputs": [],
   "source": [
    "df_price_feed['recorded_hour'] = pd.to_datetime(df_price_feed.recorded_hour).dt.round('H')"
   ]
  },
  {
   "cell_type": "code",
   "execution_count": 53,
   "metadata": {},
   "outputs": [],
   "source": [
    "df_price_feed.replace('ethereum','ETH',inplace=True)\n",
    "df_price_feed.replace('fantom','FTM', inplace=True)"
   ]
  },
  {
   "cell_type": "code",
   "execution_count": 54,
   "metadata": {},
   "outputs": [
    {
     "data": {
      "text/plain": [
       "array(['FTM', 'DAI', 'WFTM', 'BUSD', 'ETH', 'MATIC', 'USDC', 'USDT',\n",
       "       'PAN', 'FRAX', 'WETH', '1INCH', 'APE', 'sUSD', 'WBTC', 'OUSD',\n",
       "       'LINK', 'UNI', 'ZRX', 'UBI', 'MANA', 'BAT', 'RAI', 'SUSHI', 'SEED',\n",
       "       'BZZ', 'LPT', 'ALGO', 'BOBA', 'BADGER', 'BNB', 'BAL', 'STORJ',\n",
       "       'CELO', 'cUSD', 'COMP', 'BICO', 'GRT', 'SNX', 'PERP'], dtype=object)"
      ]
     },
     "execution_count": 54,
     "metadata": {},
     "output_type": "execute_result"
    }
   ],
   "source": [
    "df_contribution.ctbt_token.unique()"
   ]
  },
  {
   "cell_type": "code",
   "execution_count": 55,
   "metadata": {},
   "outputs": [],
   "source": [
    "df_contribution.replace('WFTM', 'FTM', inplace=True)\n",
    "df_contribution.replace('WETH', 'ETH', inplace=True)"
   ]
  },
  {
   "cell_type": "code",
   "execution_count": 56,
   "metadata": {},
   "outputs": [
    {
     "data": {
      "text/plain": [
       "array(['FTM', 'DAI', 'BUSD', 'ETH', 'MATIC', 'USDC', 'USDT', 'PAN',\n",
       "       'FRAX', '1INCH', 'APE', 'sUSD', 'WBTC', 'OUSD', 'LINK', 'UNI',\n",
       "       'ZRX', 'UBI', 'MANA', 'BAT', 'RAI', 'SUSHI', 'SEED', 'BZZ', 'LPT',\n",
       "       'ALGO', 'BOBA', 'BADGER', 'BNB', 'BAL', 'STORJ', 'CELO', 'cUSD',\n",
       "       'COMP', 'BICO', 'GRT', 'SNX', 'PERP'], dtype=object)"
      ]
     },
     "execution_count": 56,
     "metadata": {},
     "output_type": "execute_result"
    }
   ],
   "source": [
    "df_contribution.ctbt_token.unique()"
   ]
  },
  {
   "cell_type": "code",
   "execution_count": 57,
   "metadata": {},
   "outputs": [],
   "source": [
    "index_to_convert = np.logical_and(np.logical_or(df_contribution.ctbt_token == 'FTM', df_contribution.ctbt_token == 'ETH'), df_contribution.ctbt_amount_in_usd.isna())"
   ]
  },
  {
   "cell_type": "code",
   "execution_count": 58,
   "metadata": {},
   "outputs": [
    {
     "data": {
      "text/html": [
       "<div>\n",
       "<style scoped>\n",
       "    .dataframe tbody tr th:only-of-type {\n",
       "        vertical-align: middle;\n",
       "    }\n",
       "\n",
       "    .dataframe tbody tr th {\n",
       "        vertical-align: top;\n",
       "    }\n",
       "\n",
       "    .dataframe thead th {\n",
       "        text-align: right;\n",
       "    }\n",
       "</style>\n",
       "<table border=\"1\" class=\"dataframe\">\n",
       "  <thead>\n",
       "    <tr style=\"text-align: right;\">\n",
       "      <th></th>\n",
       "      <th>ctbt_amount</th>\n",
       "      <th>ctbt_token</th>\n",
       "      <th>ctbt_timestamp</th>\n",
       "      <th>recorded_hour</th>\n",
       "      <th>id</th>\n",
       "      <th>open</th>\n",
       "    </tr>\n",
       "  </thead>\n",
       "  <tbody>\n",
       "    <tr>\n",
       "      <th>0</th>\n",
       "      <td>1.00000</td>\n",
       "      <td>FTM</td>\n",
       "      <td>2022-12-24 16:26:49</td>\n",
       "      <td>2022-12-24 16:00:00</td>\n",
       "      <td>FTM</td>\n",
       "      <td>0.203939</td>\n",
       "    </tr>\n",
       "    <tr>\n",
       "      <th>1</th>\n",
       "      <td>4.90000</td>\n",
       "      <td>FTM</td>\n",
       "      <td>2022-12-22 13:09:47</td>\n",
       "      <td>2022-12-22 13:00:00</td>\n",
       "      <td>FTM</td>\n",
       "      <td>0.203279</td>\n",
       "    </tr>\n",
       "    <tr>\n",
       "      <th>2</th>\n",
       "      <td>1.00000</td>\n",
       "      <td>FTM</td>\n",
       "      <td>2022-12-20 19:27:19</td>\n",
       "      <td>2022-12-20 19:00:00</td>\n",
       "      <td>FTM</td>\n",
       "      <td>0.202060</td>\n",
       "    </tr>\n",
       "    <tr>\n",
       "      <th>3</th>\n",
       "      <td>0.29000</td>\n",
       "      <td>FTM</td>\n",
       "      <td>2023-01-01 18:47:30</td>\n",
       "      <td>2023-01-01 19:00:00</td>\n",
       "      <td>FTM</td>\n",
       "      <td>0.201094</td>\n",
       "    </tr>\n",
       "    <tr>\n",
       "      <th>4</th>\n",
       "      <td>2.84430</td>\n",
       "      <td>FTM</td>\n",
       "      <td>2022-12-17 10:39:55</td>\n",
       "      <td>2022-12-17 11:00:00</td>\n",
       "      <td>FTM</td>\n",
       "      <td>0.207230</td>\n",
       "    </tr>\n",
       "    <tr>\n",
       "      <th>...</th>\n",
       "      <td>...</td>\n",
       "      <td>...</td>\n",
       "      <td>...</td>\n",
       "      <td>...</td>\n",
       "      <td>...</td>\n",
       "      <td>...</td>\n",
       "    </tr>\n",
       "    <tr>\n",
       "      <th>245925</th>\n",
       "      <td>0.00065</td>\n",
       "      <td>ETH</td>\n",
       "      <td>2023-01-22 04:32:35</td>\n",
       "      <td>2023-01-22 05:00:00</td>\n",
       "      <td>ETH</td>\n",
       "      <td>1624.340000</td>\n",
       "    </tr>\n",
       "    <tr>\n",
       "      <th>245926</th>\n",
       "      <td>0.00700</td>\n",
       "      <td>ETH</td>\n",
       "      <td>2023-01-22 07:53:23</td>\n",
       "      <td>2023-01-22 08:00:00</td>\n",
       "      <td>ETH</td>\n",
       "      <td>1629.850000</td>\n",
       "    </tr>\n",
       "    <tr>\n",
       "      <th>245927</th>\n",
       "      <td>0.00125</td>\n",
       "      <td>ETH</td>\n",
       "      <td>2023-01-24 13:01:23</td>\n",
       "      <td>2023-01-24 13:00:00</td>\n",
       "      <td>ETH</td>\n",
       "      <td>1625.670000</td>\n",
       "    </tr>\n",
       "    <tr>\n",
       "      <th>245928</th>\n",
       "      <td>0.00110</td>\n",
       "      <td>ETH</td>\n",
       "      <td>2023-01-18 09:21:59</td>\n",
       "      <td>2023-01-18 09:00:00</td>\n",
       "      <td>ETH</td>\n",
       "      <td>1578.270000</td>\n",
       "    </tr>\n",
       "    <tr>\n",
       "      <th>245929</th>\n",
       "      <td>0.00064</td>\n",
       "      <td>ETH</td>\n",
       "      <td>2023-01-18 07:02:47</td>\n",
       "      <td>2023-01-18 07:00:00</td>\n",
       "      <td>ETH</td>\n",
       "      <td>1585.120000</td>\n",
       "    </tr>\n",
       "  </tbody>\n",
       "</table>\n",
       "<p>245930 rows × 6 columns</p>\n",
       "</div>"
      ],
      "text/plain": [
       "        ctbt_amount ctbt_token       ctbt_timestamp       recorded_hour   id  \\\n",
       "0           1.00000        FTM  2022-12-24 16:26:49 2022-12-24 16:00:00  FTM   \n",
       "1           4.90000        FTM  2022-12-22 13:09:47 2022-12-22 13:00:00  FTM   \n",
       "2           1.00000        FTM  2022-12-20 19:27:19 2022-12-20 19:00:00  FTM   \n",
       "3           0.29000        FTM  2023-01-01 18:47:30 2023-01-01 19:00:00  FTM   \n",
       "4           2.84430        FTM  2022-12-17 10:39:55 2022-12-17 11:00:00  FTM   \n",
       "...             ...        ...                  ...                 ...  ...   \n",
       "245925      0.00065        ETH  2023-01-22 04:32:35 2023-01-22 05:00:00  ETH   \n",
       "245926      0.00700        ETH  2023-01-22 07:53:23 2023-01-22 08:00:00  ETH   \n",
       "245927      0.00125        ETH  2023-01-24 13:01:23 2023-01-24 13:00:00  ETH   \n",
       "245928      0.00110        ETH  2023-01-18 09:21:59 2023-01-18 09:00:00  ETH   \n",
       "245929      0.00064        ETH  2023-01-18 07:02:47 2023-01-18 07:00:00  ETH   \n",
       "\n",
       "               open  \n",
       "0          0.203939  \n",
       "1          0.203279  \n",
       "2          0.202060  \n",
       "3          0.201094  \n",
       "4          0.207230  \n",
       "...             ...  \n",
       "245925  1624.340000  \n",
       "245926  1629.850000  \n",
       "245927  1625.670000  \n",
       "245928  1578.270000  \n",
       "245929  1585.120000  \n",
       "\n",
       "[245930 rows x 6 columns]"
      ]
     },
     "execution_count": 58,
     "metadata": {},
     "output_type": "execute_result"
    }
   ],
   "source": [
    "slice = df_contribution.loc[index_to_convert, ['ctbt_amount', 'ctbt_token', 'ctbt_timestamp']]\n",
    "slice['recorded_hour'] = pd.to_datetime(slice.ctbt_timestamp).dt.round('H')\n",
    "slice = slice.merge(df_price_feed, how='left', left_on=['ctbt_token', 'recorded_hour'], right_on=['id', 'recorded_hour'])\n",
    "slice"
   ]
  },
  {
   "cell_type": "code",
   "execution_count": 59,
   "metadata": {},
   "outputs": [],
   "source": [
    "df_contribution.loc[index_to_convert, 'ctbt_amount_in_usd'] =  slice.ctbt_amount * slice.open"
   ]
  },
  {
   "cell_type": "code",
   "execution_count": 60,
   "metadata": {},
   "outputs": [
    {
     "data": {
      "text/plain": [
       "array(['DAI', 'BUSD'], dtype=object)"
      ]
     },
     "execution_count": 60,
     "metadata": {},
     "output_type": "execute_result"
    }
   ],
   "source": [
    "df_contribution[df_contribution.ctbt_amount_in_usd.isna()].ctbt_token.unique()"
   ]
  },
  {
   "attachments": {},
   "cell_type": "markdown",
   "metadata": {},
   "source": [
    "Infer contribution amout_in_usd when a stable coin was used as token"
   ]
  },
  {
   "cell_type": "code",
   "execution_count": 61,
   "metadata": {},
   "outputs": [],
   "source": [
    "df_contribution.loc[np.logical_or(df_contribution.ctbt_token == 'DAI', df_contribution.ctbt_token == 'BUSD'), 'ctbt_amount_in_usd'] = df_contribution.loc[np.logical_or(df_contribution.ctbt_token == 'DAI', df_contribution.ctbt_token == 'BUSD'), 'ctbt_amount']"
   ]
  },
  {
   "cell_type": "code",
   "execution_count": 62,
   "metadata": {},
   "outputs": [
    {
     "data": {
      "text/plain": [
       "0"
      ]
     },
     "execution_count": 62,
     "metadata": {},
     "output_type": "execute_result"
    }
   ],
   "source": [
    "df_contribution.ctbt_amount_in_usd.isna().sum()"
   ]
  },
  {
   "cell_type": "code",
   "execution_count": 63,
   "metadata": {},
   "outputs": [
    {
     "data": {
      "text/plain": [
       "Index(['ctbt_id', 'ctbt_token', 'ctbt_amount', 'ctbt_address',\n",
       "       'project_address', 'ctbt_timestamp', 'project_round', 'checkout_type',\n",
       "       'ctbt_amount_in_usd', 'raw_amount_in_token', 'ctbt_tx_hash',\n",
       "       'ctbt_modified_on'],\n",
       "      dtype='object')"
      ]
     },
     "execution_count": 63,
     "metadata": {},
     "output_type": "execute_result"
    }
   ],
   "source": [
    "df_contribution.columns"
   ]
  },
  {
   "attachments": {},
   "cell_type": "markdown",
   "metadata": {},
   "source": [
    "#### Export contribution data and unique contributor addresses"
   ]
  },
  {
   "cell_type": "code",
   "execution_count": 64,
   "metadata": {},
   "outputs": [],
   "source": [
    "df_contribution.to_csv('../data/grants/df_contribution_normalized.csv', index=False)"
   ]
  },
  {
   "cell_type": "code",
   "execution_count": 65,
   "metadata": {},
   "outputs": [
    {
     "data": {
      "text/plain": [
       "79765"
      ]
     },
     "execution_count": 65,
     "metadata": {},
     "output_type": "execute_result"
    }
   ],
   "source": [
    "df_contribution.ctbt_address.nunique()"
   ]
  },
  {
   "cell_type": "code",
   "execution_count": 66,
   "metadata": {},
   "outputs": [],
   "source": [
    "for round in df_contribution.project_round.unique():\n",
    "    df_round = df_contribution[df_contribution.project_round == round]\n",
    "    pd.DataFrame(df_round.ctbt_address.unique(), columns=['address']).to_csv(f'../data/grants/df_contribution_address_{round}.csv', index=False)\n",
    "    "
   ]
  },
  {
   "cell_type": "code",
   "execution_count": 67,
   "metadata": {},
   "outputs": [],
   "source": [
    "pd.DataFrame(df_contribution.ctbt_address.unique(), columns=['address']).to_csv('../data/grants/unique_ctbt_address.csv', index=False)"
   ]
  },
  {
   "cell_type": "code",
   "execution_count": 68,
   "metadata": {},
   "outputs": [],
   "source": [
    "df_round_new_round = df_contribution[np.logical_or(np.logical_or(df_contribution.project_round == \"OSS\", df_contribution.project_round ==\"CLIMATE\"), df_contribution.project_round ==\"ETHEREUM\") ]\n",
    "pd.DataFrame(df_round_new_round.ctbt_address.unique(), columns=['address']).to_csv(f'../data/grants/df_new_round_address.csv', index=False)\n",
    "    "
   ]
  },
  {
   "attachments": {},
   "cell_type": "markdown",
   "metadata": {},
   "source": [
    "## Project Data"
   ]
  },
  {
   "cell_type": "code",
   "execution_count": 69,
   "metadata": {},
   "outputs": [],
   "source": [
    "dict_mapping_project = {\n",
    "'id' : 'grant_id',\n",
    "'grant_id' : 'grant_id',\n",
    "'project' : 'project_long_id',\n",
    "'project_id' : 'project_contract_id',\n",
    "'status' : 'project_status',\n",
    "'updated_at' : 'project_last_modify',\n",
    "'last_updated' : 'project_last_update',\n",
    "'created_on' : 'project_created_at',\n",
    "'created_at' : 'project_created_at',\n",
    "'application_round' : 'project_application_round',\n",
    "'wallet_address' : 'project_address',\n",
    "'address' : 'project_address',\n",
    "'title' : 'project_title',\n",
    "'description' : 'project_decription',\n",
    "'url' : 'project_website',\n",
    "'website' : 'project_website',\n",
    "'github_user' : 'project_github_user',\n",
    "'project_github' : 'project_github',\n",
    "'github_project_url' : 'project_github',\n",
    "'project_twitter' : 'project_twitter',\n",
    "'twitter_handle_1' : 'project_twitter',\n",
    "'previous_funding' : 'project_previous_funding',\n",
    "'team_size' : 'project_team_size',\n",
    "'live_other_chains' : 'project_live_other_chains',\n",
    "'project_value' : 'project_value',\n",
    "'improvements_to_existing_project' : 'project_improvements_to_existing',\n",
    "'active' : 'project_active_grant',\n",
    "'amount_received' : 'project_amount_received',\n",
    "'amount_received_in_round' : 'project_received_in_round',\n",
    "'contribution_count' : 'project_contribution_count',\n",
    "'contributor_count' : 'project_contributor_count',\n",
    "'twitter_handle_2' : 'project_twitter_verified',\n",
    "'approved' : 'project_approved',\n",
    "'previous_funding' : 'project_funding_source',\n",
    "'team_size' : 'project_team_size',\n",
    "'verified_twitter_or_github' : 'project_github_twitter_credential',\n",
    "'links_to_github_or_org' : 'project_github_org_link'\n",
    "}\n"
   ]
  },
  {
   "cell_type": "code",
   "execution_count": 70,
   "metadata": {},
   "outputs": [
    {
     "data": {
      "text/plain": [
       "Index(['grant_id', 'project_active_grant', 'project_approved',\n",
       "       'project_address', 'project_title', 'project_website',\n",
       "       'project_decription', 'project_created_at', 'project_round'],\n",
       "      dtype='object')"
      ]
     },
     "execution_count": 70,
     "metadata": {},
     "output_type": "execute_result"
    }
   ],
   "source": [
    "df_gr15_applications.rename(columns=dict_mapping_project, inplace=True)\n",
    "df_fantom_applications.rename(columns=dict_mapping_project, inplace=True)\n",
    "df_unicef_applications.rename(columns=dict_mapping_project, inplace=True)\n",
    "df_oss_applications.rename(columns=dict_mapping_project, inplace=True)\n",
    "df_climate_applications.rename(columns=dict_mapping_project, inplace=True)\n",
    "df_ethereum_applications.rename(columns=dict_mapping_project, inplace=True)\n",
    "df_gr15_applications.columns"
   ]
  },
  {
   "cell_type": "code",
   "execution_count": 71,
   "metadata": {},
   "outputs": [
    {
     "data": {
      "text/plain": [
       "Index(['grant_id', 'project_long_id', 'project_status', 'project_created_at',\n",
       "       'project_last_modify', 'project_application_round', 'project_address',\n",
       "       'project_last_update', 'project_contract_id', 'project_title',\n",
       "       'project_decription', 'project_website', 'project_github_user',\n",
       "       'project_github', 'project_twitter', 'project_funding_source',\n",
       "       'project_team_size', 'live_on_other_chains', 'project_value',\n",
       "       'project_improvements_to_existing', 'project_round'],\n",
       "      dtype='object')"
      ]
     },
     "execution_count": 71,
     "metadata": {},
     "output_type": "execute_result"
    }
   ],
   "source": [
    "df_fantom_applications.columns"
   ]
  },
  {
   "cell_type": "code",
   "execution_count": 72,
   "metadata": {},
   "outputs": [
    {
     "data": {
      "text/plain": [
       "Index(['grant_id', 'project_long_id', 'project_status', 'project_created_at',\n",
       "       'project_last_modify', 'project_application_round', 'project_address',\n",
       "       'project_last_update', 'project_contract_id', 'project_title',\n",
       "       'project_decription', 'project_website', 'project_github',\n",
       "       'project_twitter', 'project_github_user', 'project_round'],\n",
       "      dtype='object')"
      ]
     },
     "execution_count": 72,
     "metadata": {},
     "output_type": "execute_result"
    }
   ],
   "source": [
    "df_unicef_applications.columns"
   ]
  },
  {
   "cell_type": "code",
   "execution_count": 73,
   "metadata": {},
   "outputs": [
    {
     "data": {
      "text/plain": [
       "Index(['grant_id', 'project_long_id', 'project_status', 'project_created_at',\n",
       "       'project_last_modify', 'project_application_round', 'project_address',\n",
       "       'project_last_update', 'project_contract_id', 'project_title',\n",
       "       'project_decription', 'project_website', 'project_github_user',\n",
       "       'project_twitter', 'project_funding_source', 'project_team_size',\n",
       "       'project_github', 'project_round'],\n",
       "      dtype='object')"
      ]
     },
     "execution_count": 73,
     "metadata": {},
     "output_type": "execute_result"
    }
   ],
   "source": [
    "df_climate_applications.columns"
   ]
  },
  {
   "cell_type": "code",
   "execution_count": 74,
   "metadata": {},
   "outputs": [
    {
     "data": {
      "text/plain": [
       "Index(['grant_id', 'project_long_id', 'project_status', 'project_created_at',\n",
       "       'project_last_modify', 'project_application_round', 'project_address',\n",
       "       'project_last_update', 'project_contract_id', 'project_title',\n",
       "       'project_decription', 'project_website', 'project_github_user',\n",
       "       'project_twitter', 'project_funding_source', 'project_team_size',\n",
       "       'project_github_twitter_credential', 'project_github', 'project_round'],\n",
       "      dtype='object')"
      ]
     },
     "execution_count": 74,
     "metadata": {},
     "output_type": "execute_result"
    }
   ],
   "source": [
    "df_ethereum_applications.columns"
   ]
  },
  {
   "cell_type": "code",
   "execution_count": 75,
   "metadata": {},
   "outputs": [
    {
     "data": {
      "text/plain": [
       "Index(['grant_id', 'project_long_id', 'project_status', 'project_created_at',\n",
       "       'project_last_modify', 'project_application_round', 'project_address',\n",
       "       'project_last_update', 'project_contract_id', 'project_title',\n",
       "       'project_decription', 'project_website', 'project_github_user',\n",
       "       'project_twitter', 'project_funding_source', 'project_team_size',\n",
       "       'project_github', 'project_round'],\n",
       "      dtype='object')"
      ]
     },
     "execution_count": 75,
     "metadata": {},
     "output_type": "execute_result"
    }
   ],
   "source": [
    "df_climate_applications.columns"
   ]
  },
  {
   "cell_type": "code",
   "execution_count": null,
   "metadata": {},
   "outputs": [],
   "source": []
  },
  {
   "attachments": {},
   "cell_type": "markdown",
   "metadata": {},
   "source": [
    "we can merge on the wallet_address and destination address the fantom and unicef csv"
   ]
  },
  {
   "cell_type": "code",
   "execution_count": 76,
   "metadata": {},
   "outputs": [
    {
     "data": {
      "text/plain": [
       "RangeIndex(start=0, stop=107, step=1)"
      ]
     },
     "execution_count": 76,
     "metadata": {},
     "output_type": "execute_result"
    }
   ],
   "source": [
    "df_fantom_applications.index"
   ]
  },
  {
   "cell_type": "code",
   "execution_count": 77,
   "metadata": {},
   "outputs": [
    {
     "name": "stdout",
     "output_type": "stream",
     "text": [
      "(107, 21)\n"
     ]
    },
    {
     "data": {
      "text/plain": [
       "Index(['grant_id', 'project_long_id', 'project_status', 'project_created_at',\n",
       "       'project_last_modify', 'project_application_round', 'project_address',\n",
       "       'project_last_update', 'project_contract_id', 'project_title',\n",
       "       'project_decription', 'project_website', 'project_github_user',\n",
       "       'project_github', 'project_twitter', 'project_funding_source',\n",
       "       'project_team_size', 'live_on_other_chains', 'project_value',\n",
       "       'project_improvements_to_existing', 'project_round'],\n",
       "      dtype='object')"
      ]
     },
     "execution_count": 77,
     "metadata": {},
     "output_type": "execute_result"
    }
   ],
   "source": [
    "print(df_fantom_applications.shape)\n",
    "df_fantom_applications.columns"
   ]
  },
  {
   "cell_type": "code",
   "execution_count": 78,
   "metadata": {},
   "outputs": [
    {
     "name": "stderr",
     "output_type": "stream",
     "text": [
      "C:\\Users\\DELL Admin\\AppData\\Local\\Temp\\ipykernel_17912\\1969439177.py:1: FutureWarning: In a future version, object-dtype columns with all-bool values will not be included in reductions with bool_only=True. Explicitly cast to bool dtype instead.\n",
      "  df_application = pd.concat([df_gr15_applications, df_fantom_applications, df_unicef_applications, df_climate_applications, df_ethereum_applications, df_oss_applications], axis=0)\n"
     ]
    }
   ],
   "source": [
    "df_application = pd.concat([df_gr15_applications, df_fantom_applications, df_unicef_applications, df_climate_applications, df_ethereum_applications, df_oss_applications], axis=0)"
   ]
  },
  {
   "cell_type": "code",
   "execution_count": 79,
   "metadata": {},
   "outputs": [
    {
     "data": {
      "text/plain": [
       "Index(['grant_id', 'project_active_grant', 'project_approved',\n",
       "       'project_address', 'project_title', 'project_website',\n",
       "       'project_decription', 'project_created_at', 'project_round',\n",
       "       'project_long_id', 'project_status', 'project_last_modify',\n",
       "       'project_application_round', 'project_last_update',\n",
       "       'project_contract_id', 'project_github_user', 'project_github',\n",
       "       'project_twitter', 'project_funding_source', 'project_team_size',\n",
       "       'live_on_other_chains', 'project_value',\n",
       "       'project_improvements_to_existing', 'project_github_twitter_credential',\n",
       "       'project_github_org_link'],\n",
       "      dtype='object')"
      ]
     },
     "execution_count": 79,
     "metadata": {},
     "output_type": "execute_result"
    }
   ],
   "source": [
    "df_gr15_applications.columns.append(df_fantom_applications.columns).append(df_unicef_applications.columns).append(df_climate_applications.columns).append(df_ethereum_applications.columns).append(df_oss_applications.columns).unique()"
   ]
  },
  {
   "cell_type": "code",
   "execution_count": 80,
   "metadata": {},
   "outputs": [
    {
     "data": {
      "text/plain": [
       "(1132, 25)"
      ]
     },
     "execution_count": 80,
     "metadata": {},
     "output_type": "execute_result"
    }
   ],
   "source": [
    "df_application.shape"
   ]
  },
  {
   "cell_type": "code",
   "execution_count": 81,
   "metadata": {},
   "outputs": [
    {
     "name": "stdout",
     "output_type": "stream",
     "text": [
      "(12, 16)\n",
      "(107, 21)\n",
      "(808, 9)\n"
     ]
    }
   ],
   "source": [
    "print(df_unicef_applications.shape)\n",
    "print(df_fantom_applications.shape)\n",
    "print(df_gr15_applications.shape)"
   ]
  },
  {
   "cell_type": "code",
   "execution_count": 82,
   "metadata": {},
   "outputs": [
    {
     "data": {
      "text/html": [
       "<div>\n",
       "<style scoped>\n",
       "    .dataframe tbody tr th:only-of-type {\n",
       "        vertical-align: middle;\n",
       "    }\n",
       "\n",
       "    .dataframe tbody tr th {\n",
       "        vertical-align: top;\n",
       "    }\n",
       "\n",
       "    .dataframe thead th {\n",
       "        text-align: right;\n",
       "    }\n",
       "</style>\n",
       "<table border=\"1\" class=\"dataframe\">\n",
       "  <thead>\n",
       "    <tr style=\"text-align: right;\">\n",
       "      <th></th>\n",
       "      <th>grant_id</th>\n",
       "      <th>project_active_grant</th>\n",
       "      <th>project_approved</th>\n",
       "      <th>project_address</th>\n",
       "      <th>project_title</th>\n",
       "      <th>project_website</th>\n",
       "      <th>project_decription</th>\n",
       "      <th>project_created_at</th>\n",
       "      <th>project_round</th>\n",
       "      <th>project_long_id</th>\n",
       "      <th>...</th>\n",
       "      <th>project_github_user</th>\n",
       "      <th>project_github</th>\n",
       "      <th>project_twitter</th>\n",
       "      <th>project_funding_source</th>\n",
       "      <th>project_team_size</th>\n",
       "      <th>live_on_other_chains</th>\n",
       "      <th>project_value</th>\n",
       "      <th>project_improvements_to_existing</th>\n",
       "      <th>project_github_twitter_credential</th>\n",
       "      <th>project_github_org_link</th>\n",
       "    </tr>\n",
       "  </thead>\n",
       "  <tbody>\n",
       "    <tr>\n",
       "      <th>0</th>\n",
       "      <td>6841</td>\n",
       "      <td>False</td>\n",
       "      <td>False</td>\n",
       "      <td>0xDc4C1D5D42f829dfd4b772d3a678CfB178ee6476</td>\n",
       "      <td>4C Labs</td>\n",
       "      <td>https://gitcoin.co/grants/6841/4c-labs</td>\n",
       "      <td>Project Core:\\r\\n\\t4C hopes to become the Brid...</td>\n",
       "      <td>2022-06-24T03:39:54.292-06:00</td>\n",
       "      <td>GR15</td>\n",
       "      <td>NaN</td>\n",
       "      <td>...</td>\n",
       "      <td>NaN</td>\n",
       "      <td>NaN</td>\n",
       "      <td>NaN</td>\n",
       "      <td>NaN</td>\n",
       "      <td>NaN</td>\n",
       "      <td>NaN</td>\n",
       "      <td>NaN</td>\n",
       "      <td>NaN</td>\n",
       "      <td>NaN</td>\n",
       "      <td>NaN</td>\n",
       "    </tr>\n",
       "    <tr>\n",
       "      <th>1</th>\n",
       "      <td>6842</td>\n",
       "      <td>True</td>\n",
       "      <td>True</td>\n",
       "      <td>0xCE41b49d28800De3Ba9925f68D82129dFc4b870B</td>\n",
       "      <td>C# library for accessing NFTs on mobile devices</td>\n",
       "      <td>https://gitcoin.co/grants/6842/c-library-for-a...</td>\n",
       "      <td>This is a lightweight open source C# library t...</td>\n",
       "      <td>2022-06-24T07:41:41.000-06:00</td>\n",
       "      <td>GR15</td>\n",
       "      <td>NaN</td>\n",
       "      <td>...</td>\n",
       "      <td>NaN</td>\n",
       "      <td>NaN</td>\n",
       "      <td>NaN</td>\n",
       "      <td>NaN</td>\n",
       "      <td>NaN</td>\n",
       "      <td>NaN</td>\n",
       "      <td>NaN</td>\n",
       "      <td>NaN</td>\n",
       "      <td>NaN</td>\n",
       "      <td>NaN</td>\n",
       "    </tr>\n",
       "  </tbody>\n",
       "</table>\n",
       "<p>2 rows × 25 columns</p>\n",
       "</div>"
      ],
      "text/plain": [
       "  grant_id project_active_grant project_approved  \\\n",
       "0     6841                False            False   \n",
       "1     6842                 True             True   \n",
       "\n",
       "                              project_address  \\\n",
       "0  0xDc4C1D5D42f829dfd4b772d3a678CfB178ee6476   \n",
       "1  0xCE41b49d28800De3Ba9925f68D82129dFc4b870B   \n",
       "\n",
       "                                     project_title  \\\n",
       "0                                          4C Labs   \n",
       "1  C# library for accessing NFTs on mobile devices   \n",
       "\n",
       "                                     project_website  \\\n",
       "0             https://gitcoin.co/grants/6841/4c-labs   \n",
       "1  https://gitcoin.co/grants/6842/c-library-for-a...   \n",
       "\n",
       "                                  project_decription  \\\n",
       "0  Project Core:\\r\\n\\t4C hopes to become the Brid...   \n",
       "1  This is a lightweight open source C# library t...   \n",
       "\n",
       "              project_created_at project_round project_long_id  ...  \\\n",
       "0  2022-06-24T03:39:54.292-06:00          GR15             NaN  ...   \n",
       "1  2022-06-24T07:41:41.000-06:00          GR15             NaN  ...   \n",
       "\n",
       "  project_github_user project_github project_twitter  project_funding_source  \\\n",
       "0                 NaN            NaN             NaN                     NaN   \n",
       "1                 NaN            NaN             NaN                     NaN   \n",
       "\n",
       "  project_team_size live_on_other_chains project_value  \\\n",
       "0               NaN                  NaN           NaN   \n",
       "1               NaN                  NaN           NaN   \n",
       "\n",
       "  project_improvements_to_existing project_github_twitter_credential  \\\n",
       "0                              NaN                               NaN   \n",
       "1                              NaN                               NaN   \n",
       "\n",
       "  project_github_org_link  \n",
       "0                     NaN  \n",
       "1                     NaN  \n",
       "\n",
       "[2 rows x 25 columns]"
      ]
     },
     "execution_count": 82,
     "metadata": {},
     "output_type": "execute_result"
    }
   ],
   "source": [
    "df_application.head(2)"
   ]
  },
  {
   "cell_type": "code",
   "execution_count": 83,
   "metadata": {},
   "outputs": [
    {
     "data": {
      "text/plain": [
       "Index(['grant_id', 'project_active_grant', 'project_approved',\n",
       "       'project_address', 'project_title', 'project_website',\n",
       "       'project_decription', 'project_created_at', 'project_round',\n",
       "       'project_long_id', 'project_status', 'project_last_modify',\n",
       "       'project_application_round', 'project_last_update',\n",
       "       'project_contract_id', 'project_github_user', 'project_github',\n",
       "       'project_twitter', 'project_funding_source', 'project_team_size',\n",
       "       'live_on_other_chains', 'project_value',\n",
       "       'project_improvements_to_existing', 'project_github_twitter_credential',\n",
       "       'project_github_org_link'],\n",
       "      dtype='object')"
      ]
     },
     "execution_count": 83,
     "metadata": {},
     "output_type": "execute_result"
    }
   ],
   "source": [
    "df_application.columns"
   ]
  },
  {
   "cell_type": "code",
   "execution_count": 84,
   "metadata": {},
   "outputs": [
    {
     "data": {
      "text/plain": [
       "grant_id                                0\n",
       "project_active_grant                  324\n",
       "project_approved                      324\n",
       "project_address                         0\n",
       "project_title                           1\n",
       "project_website                         1\n",
       "project_decription                      3\n",
       "project_created_at                      0\n",
       "project_round                           0\n",
       "project_long_id                       808\n",
       "project_status                        808\n",
       "project_last_modify                   808\n",
       "project_application_round             809\n",
       "project_last_update                   809\n",
       "project_contract_id                   809\n",
       "project_github_user                   938\n",
       "project_github                        962\n",
       "project_twitter                       833\n",
       "project_funding_source                823\n",
       "project_team_size                     820\n",
       "live_on_other_chains                 1025\n",
       "project_value                        1025\n",
       "project_improvements_to_existing     1098\n",
       "project_github_twitter_credential     983\n",
       "project_github_org_link              1007\n",
       "dtype: int64"
      ]
     },
     "execution_count": 84,
     "metadata": {},
     "output_type": "execute_result"
    }
   ],
   "source": [
    "df_application.isna().sum()"
   ]
  },
  {
   "cell_type": "code",
   "execution_count": 85,
   "metadata": {},
   "outputs": [
    {
     "data": {
      "text/plain": [
       "Index(['ctbt_id', 'ctbt_token', 'ctbt_amount', 'ctbt_address',\n",
       "       'project_address', 'ctbt_timestamp', 'project_round', 'checkout_type',\n",
       "       'ctbt_amount_in_usd', 'raw_amount_in_token', 'ctbt_tx_hash',\n",
       "       'ctbt_modified_on'],\n",
       "      dtype='object')"
      ]
     },
     "execution_count": 85,
     "metadata": {},
     "output_type": "execute_result"
    }
   ],
   "source": [
    "df_contribution.columns"
   ]
  },
  {
   "cell_type": "code",
   "execution_count": 86,
   "metadata": {},
   "outputs": [],
   "source": [
    "project_amount_received = df_contribution.groupby('project_address').ctbt_amount_in_usd.sum()\n",
    "project_contributor_count = df_contribution.groupby('project_address').ctbt_address.nunique()\n",
    "project_contribution_count = df_contribution.groupby('project_address').ctbt_id.count()"
   ]
  },
  {
   "cell_type": "code",
   "execution_count": 87,
   "metadata": {},
   "outputs": [
    {
     "data": {
      "text/plain": [
       "(1132, 28)"
      ]
     },
     "execution_count": 87,
     "metadata": {},
     "output_type": "execute_result"
    }
   ],
   "source": [
    "ctbt_stats = pd.concat([project_amount_received, project_contributor_count, project_contribution_count], axis=1).reset_index().rename(columns={'index' : 'project_address', 'ctbt_amount_in_usd' : 'project_amount_received', 'ctbt_address' : 'project_contributor_count', 'ctbt_id' : 'project_contribution_count'})\n",
    "df_application = df_application.merge(ctbt_stats, how='left', on='project_address')\n",
    "df_application.shape"
   ]
  },
  {
   "cell_type": "code",
   "execution_count": 88,
   "metadata": {},
   "outputs": [
    {
     "data": {
      "text/plain": [
       "699"
      ]
     },
     "execution_count": 88,
     "metadata": {},
     "output_type": "execute_result"
    }
   ],
   "source": [
    "df_application[df_application.project_amount_received.isna()].project_address.unique().size"
   ]
  },
  {
   "cell_type": "code",
   "execution_count": 89,
   "metadata": {},
   "outputs": [],
   "source": [
    "# verify those address are not in contirbution data\n",
    "address_no_fund = df_application[df_application.project_amount_received.isna()].project_address.unique()\n",
    "address_ctbt = df_contribution.project_address.unique()\n",
    "for adr in address_no_fund:\n",
    "    if adr in address_ctbt:\n",
    "        print(adr)"
   ]
  },
  {
   "cell_type": "code",
   "execution_count": 90,
   "metadata": {},
   "outputs": [],
   "source": [
    "# replace nan with 0 on columns project_amount_received, project_contributor_count, project_contribution_count\n",
    "df_application.project_amount_received.fillna(0, inplace=True)\n",
    "df_application.project_contributor_count.fillna(0, inplace=True)\n",
    "df_application.project_contribution_count.fillna(0, inplace=True)\n"
   ]
  },
  {
   "cell_type": "code",
   "execution_count": 91,
   "metadata": {},
   "outputs": [
    {
     "data": {
      "text/plain": [
       "grant_id                                0\n",
       "project_active_grant                  324\n",
       "project_approved                      324\n",
       "project_address                         0\n",
       "project_title                           1\n",
       "project_website                         1\n",
       "project_decription                      3\n",
       "project_created_at                      0\n",
       "project_round                           0\n",
       "project_long_id                       808\n",
       "project_status                        808\n",
       "project_last_modify                   808\n",
       "project_application_round             809\n",
       "project_last_update                   809\n",
       "project_contract_id                   809\n",
       "project_github_user                   938\n",
       "project_github                        962\n",
       "project_twitter                       833\n",
       "project_funding_source                823\n",
       "project_team_size                     820\n",
       "live_on_other_chains                 1025\n",
       "project_value                        1025\n",
       "project_improvements_to_existing     1098\n",
       "project_github_twitter_credential     983\n",
       "project_github_org_link              1007\n",
       "project_amount_received                 0\n",
       "project_contributor_count               0\n",
       "project_contribution_count              0\n",
       "dtype: int64"
      ]
     },
     "execution_count": 91,
     "metadata": {},
     "output_type": "execute_result"
    }
   ],
   "source": [
    "df_application.isna().sum()"
   ]
  },
  {
   "cell_type": "markdown",
   "metadata": {},
   "source": [
    "664 projects did not received any fund"
   ]
  },
  {
   "cell_type": "code",
   "execution_count": 92,
   "metadata": {},
   "outputs": [],
   "source": [
    "df_application.to_csv('../data/grants/df_application_normalized.csv', index=False)"
   ]
  }
 ],
 "metadata": {
  "kernelspec": {
   "display_name": "vscorer",
   "language": "python",
   "name": "python3"
  },
  "language_info": {
   "codemirror_mode": {
    "name": "ipython",
    "version": 3
   },
   "file_extension": ".py",
   "mimetype": "text/x-python",
   "name": "python",
   "nbconvert_exporter": "python",
   "pygments_lexer": "ipython3",
   "version": "3.10.9 (tags/v3.10.9:1dd9be6, Dec  6 2022, 20:01:21) [MSC v.1934 64 bit (AMD64)]"
  },
  "orig_nbformat": 4,
  "vscode": {
   "interpreter": {
    "hash": "2e731f6eedec16a8a083c4f694f981c9b9cc65d9419ecaab10cc317b9e3c20fe"
   }
  }
 },
 "nbformat": 4,
 "nbformat_minor": 2
}
